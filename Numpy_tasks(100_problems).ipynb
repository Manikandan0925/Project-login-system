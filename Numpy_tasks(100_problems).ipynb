{
  "cells": [
    {
      "cell_type": "markdown",
      "metadata": {
        "id": "view-in-github",
        "colab_type": "text"
      },
      "source": [
        "<a href=\"https://colab.research.google.com/github/Manikandan0925/Project-login-system/blob/main/Numpy_tasks(100_problems).ipynb\" target=\"_parent\"><img src=\"https://colab.research.google.com/assets/colab-badge.svg\" alt=\"Open In Colab\"/></a>"
      ]
    },
    {
      "cell_type": "markdown",
      "metadata": {
        "id": "_Z-ZfGD7-EH0"
      },
      "source": [
        "# Numpy\n",
        "\n"
      ]
    },
    {
      "cell_type": "markdown",
      "metadata": {
        "id": "SGllYecM-EH6"
      },
      "source": [
        "#### 1. Import the numpy package under the name `np` (★☆☆) \n",
        "(**hint**: import … as …)"
      ]
    },
    {
      "cell_type": "code",
      "execution_count": null,
      "metadata": {
        "collapsed": true,
        "id": "1sgHWLoJ-EH7"
      },
      "outputs": [],
      "source": [
        "import numpy as np"
      ]
    },
    {
      "cell_type": "markdown",
      "metadata": {
        "id": "GN8gFNVB-EH9"
      },
      "source": [
        "#### 2. Print the numpy version and the configuration (★☆☆) \n",
        "(**hint**: np.\\_\\_version\\_\\_, np.show\\_config)"
      ]
    },
    {
      "cell_type": "code",
      "execution_count": null,
      "metadata": {
        "id": "BYK9sISL-EH-",
        "colab": {
          "base_uri": "https://localhost:8080/"
        },
        "outputId": "ddcc6883-96b6-4c60-c159-f5442faf723e"
      },
      "outputs": [
        {
          "output_type": "stream",
          "name": "stdout",
          "text": [
            "1.21.6 <function show at 0x7f457c99e290>\n"
          ]
        }
      ],
      "source": [
        "import numpy as np\n",
        "print(np.__version__, np.show_config)"
      ]
    },
    {
      "cell_type": "markdown",
      "metadata": {
        "id": "VdJ-F90Z-EH-"
      },
      "source": [
        "#### 3. Create a null vector of size 10 (★☆☆) \n",
        "(**hint**: np.zeros)"
      ]
    },
    {
      "cell_type": "code",
      "execution_count": null,
      "metadata": {
        "id": "rb-qfOHt-EH_",
        "colab": {
          "base_uri": "https://localhost:8080/"
        },
        "outputId": "a97b9e00-564a-4b8e-dce4-820f9a35367e"
      },
      "outputs": [
        {
          "output_type": "stream",
          "name": "stdout",
          "text": [
            "[0. 0. 0. 0. 0. 0. 0. 0. 0. 0.]\n"
          ]
        }
      ],
      "source": [
        "import numpy as np\n",
        "x=np.zeros(10)\n",
        "print(x)"
      ]
    },
    {
      "cell_type": "markdown",
      "metadata": {
        "id": "tg7BHCrS-EIA"
      },
      "source": [
        "#### 4.  How to find the memory size of any array (★☆☆) \n",
        "(**hint**: size, itemsize)"
      ]
    },
    {
      "cell_type": "code",
      "execution_count": null,
      "metadata": {
        "id": "-xhYwSUt-EIB",
        "colab": {
          "base_uri": "https://localhost:8080/"
        },
        "outputId": "00706f0a-3301-4a6b-c22a-6d758f539e35"
      },
      "outputs": [
        {
          "output_type": "stream",
          "name": "stdout",
          "text": [
            "Size of the array:  3\n",
            "Memory size of one array element in bytes: 8\n",
            "Memory size of numpy array in bytes: 24\n"
          ]
        }
      ],
      "source": [
        "import numpy as np\n",
        "x=np.array([100,20,30])\n",
        "print(\"Size of the array: \",x.size)\n",
        "print(\"Memory size of one array element in bytes:\",x.itemsize)\n",
        "print(\"Memory size of numpy array in bytes:\",x.size * x.itemsize)"
      ]
    },
    {
      "cell_type": "markdown",
      "metadata": {
        "id": "VwLeYsrN-EIB"
      },
      "source": [
        "#### 5.  How to get the documentation of the numpy add function from the command line? (★☆☆) \n",
        "(**hint**: np.info)"
      ]
    },
    {
      "cell_type": "code",
      "execution_count": null,
      "metadata": {
        "collapsed": true,
        "id": "O1MUfcDr-EIC",
        "colab": {
          "base_uri": "https://localhost:8080/"
        },
        "outputId": "c9d0fe50-52e6-48df-f77b-31b1a3ca0de8"
      },
      "outputs": [
        {
          "output_type": "stream",
          "name": "stdout",
          "text": [
            "add(x1, x2, /, out=None, *, where=True, casting='same_kind', order='K', dtype=None, subok=True[, signature, extobj])\n",
            "\n",
            "Add arguments element-wise.\n",
            "\n",
            "Parameters\n",
            "----------\n",
            "x1, x2 : array_like\n",
            "    The arrays to be added.\n",
            "    If ``x1.shape != x2.shape``, they must be broadcastable to a common\n",
            "    shape (which becomes the shape of the output).\n",
            "out : ndarray, None, or tuple of ndarray and None, optional\n",
            "    A location into which the result is stored. If provided, it must have\n",
            "    a shape that the inputs broadcast to. If not provided or None,\n",
            "    a freshly-allocated array is returned. A tuple (possible only as a\n",
            "    keyword argument) must have length equal to the number of outputs.\n",
            "where : array_like, optional\n",
            "    This condition is broadcast over the input. At locations where the\n",
            "    condition is True, the `out` array will be set to the ufunc result.\n",
            "    Elsewhere, the `out` array will retain its original value.\n",
            "    Note that if an uninitialized `out` array is created via the default\n",
            "    ``out=None``, locations within it where the condition is False will\n",
            "    remain uninitialized.\n",
            "**kwargs\n",
            "    For other keyword-only arguments, see the\n",
            "    :ref:`ufunc docs <ufuncs.kwargs>`.\n",
            "\n",
            "Returns\n",
            "-------\n",
            "add : ndarray or scalar\n",
            "    The sum of `x1` and `x2`, element-wise.\n",
            "    This is a scalar if both `x1` and `x2` are scalars.\n",
            "\n",
            "Notes\n",
            "-----\n",
            "Equivalent to `x1` + `x2` in terms of array broadcasting.\n",
            "\n",
            "Examples\n",
            "--------\n",
            ">>> np.add(1.0, 4.0)\n",
            "5.0\n",
            ">>> x1 = np.arange(9.0).reshape((3, 3))\n",
            ">>> x2 = np.arange(3.0)\n",
            ">>> np.add(x1, x2)\n",
            "array([[  0.,   2.,   4.],\n",
            "       [  3.,   5.,   7.],\n",
            "       [  6.,   8.,  10.]])\n",
            "\n",
            "The ``+`` operator can be used as a shorthand for ``np.add`` on ndarrays.\n",
            "\n",
            ">>> x1 = np.arange(9.0).reshape((3, 3))\n",
            ">>> x2 = np.arange(3.0)\n",
            ">>> x1 + x2\n",
            "array([[ 0.,  2.,  4.],\n",
            "       [ 3.,  5.,  7.],\n",
            "       [ 6.,  8., 10.]])\n",
            "None\n"
          ]
        }
      ],
      "source": [
        "import numpy as np\n",
        "print(np.info(np.add))"
      ]
    },
    {
      "cell_type": "markdown",
      "metadata": {
        "id": "PxHNkOn_-EIC"
      },
      "source": [
        "#### 6.  Create a null vector of size 10 but the fifth value which is 1 (★☆☆) \n",
        "(**hint**: array\\[4\\])"
      ]
    },
    {
      "cell_type": "code",
      "execution_count": null,
      "metadata": {
        "id": "ZOim2FIP-EID",
        "colab": {
          "base_uri": "https://localhost:8080/"
        },
        "outputId": "df8c2897-6829-4ee2-86ea-a9374c98a231"
      },
      "outputs": [
        {
          "output_type": "stream",
          "name": "stdout",
          "text": [
            "[0. 0. 0. 0. 0. 1. 0. 0. 0. 0.]\n"
          ]
        }
      ],
      "source": [
        "import numpy as np\n",
        "x=np.zeros(10)\n",
        "x[5] = 1\n",
        "print(x)"
      ]
    },
    {
      "cell_type": "markdown",
      "metadata": {
        "id": "2mYKM3aM-EID"
      },
      "source": [
        "#### 7.  Create a vector with values ranging from 10 to 49 (★☆☆) \n",
        "(**hint**: np.arange)"
      ]
    },
    {
      "cell_type": "code",
      "execution_count": null,
      "metadata": {
        "id": "oeV2dNfF-EIE",
        "colab": {
          "base_uri": "https://localhost:8080/"
        },
        "outputId": "6e0891cf-e3ec-41b2-f272-d611a33c5ecc"
      },
      "outputs": [
        {
          "output_type": "stream",
          "name": "stdout",
          "text": [
            "[10 11 12 13 14 15 16 17 18 19 20 21 22 23 24 25 26 27 28 29 30 31 32 33\n",
            " 34 35 36 37 38 39 40 41 42 43 44 45 46 47 48]\n"
          ]
        }
      ],
      "source": [
        "import numpy as np\n",
        "x=np.arange(10,49)\n",
        "print(x)"
      ]
    },
    {
      "cell_type": "markdown",
      "metadata": {
        "id": "INCGIMPD-EIF"
      },
      "source": [
        "#### 8.  Reverse a vector (first element becomes last) (★☆☆) \n",
        "(**hint**: array\\[::-1\\])"
      ]
    },
    {
      "cell_type": "code",
      "execution_count": null,
      "metadata": {
        "id": "CpbNXDP3-EIG",
        "colab": {
          "base_uri": "https://localhost:8080/"
        },
        "outputId": "baa2ff87-6f18-401a-f81c-38e871d7bfdf"
      },
      "outputs": [
        {
          "output_type": "stream",
          "name": "stdout",
          "text": [
            "[48 47 46 45 44 43 42 41 40 39 38 37 36 35 34 33 32 31 30 29 28 27 26 25\n",
            " 24 23 22 21 20 19 18 17 16 15 14 13 12 11 10]\n"
          ]
        }
      ],
      "source": [
        "print(x[::-1])"
      ]
    },
    {
      "cell_type": "markdown",
      "metadata": {
        "id": "fdMol_Ym-EIG"
      },
      "source": [
        "#### 9.  Create a 3x3 matrix with values ranging from 0 to 8 (★☆☆) \n",
        "(**hint**: reshape)"
      ]
    },
    {
      "cell_type": "code",
      "execution_count": null,
      "metadata": {
        "id": "W61UyTUY-EIG",
        "colab": {
          "base_uri": "https://localhost:8080/"
        },
        "outputId": "d6f4ef0c-f887-41fb-d6bc-f8d0cfb5f472"
      },
      "outputs": [
        {
          "output_type": "stream",
          "name": "stdout",
          "text": [
            "[[0 1 2]\n",
            " [3 4 5]\n",
            " [6 7 8]]\n"
          ]
        }
      ],
      "source": [
        "import numpy as np\n",
        "m = np.arange(0,9).reshape(3,3)\n",
        "print(m)"
      ]
    },
    {
      "cell_type": "markdown",
      "metadata": {
        "id": "1EhWughD-EIH"
      },
      "source": [
        "#### 10. Find indices of non-zero elements from \\[1,2,0,0,4,0\\] (★☆☆) \n",
        "(**hint**: np.nonzero)"
      ]
    },
    {
      "cell_type": "code",
      "execution_count": null,
      "metadata": {
        "id": "iZTOoRcs-EIH",
        "colab": {
          "base_uri": "https://localhost:8080/"
        },
        "outputId": "8ff53110-0763-4710-8c09-6b44b023ef42"
      },
      "outputs": [
        {
          "output_type": "stream",
          "name": "stdout",
          "text": [
            "Input  array : \n",
            " [1 2 0 0 4 0]\n",
            "indices of non-zero elements : (array([0, 1, 4]),)\n"
          ]
        }
      ],
      "source": [
        "import numpy as np\n",
        "x = np.array([1,2,0,0,4,0])\n",
        "print(\"Input  array : \\n\", x)\n",
        "o=np.nonzero(x)\n",
        "print(\"indices of non-zero elements :\",o)"
      ]
    },
    {
      "cell_type": "markdown",
      "metadata": {
        "id": "DPm-TTmj-EIH"
      },
      "source": [
        "#### 11. Create a 3x3 identity matrix (★☆☆) \n",
        "(**hint**: np.eye)"
      ]
    },
    {
      "cell_type": "code",
      "execution_count": null,
      "metadata": {
        "id": "Cgw2lIwF-EII",
        "colab": {
          "base_uri": "https://localhost:8080/"
        },
        "outputId": "fe16a65a-ffcd-4872-bf35-717b9e742cc2"
      },
      "outputs": [
        {
          "output_type": "stream",
          "name": "stdout",
          "text": [
            "3x3 identity matrix\n",
            "[[1. 0. 0.]\n",
            " [0. 1. 0.]\n",
            " [0. 0. 1.]]\n"
          ]
        }
      ],
      "source": [
        "import numpy as np\n",
        "a = np.eye(3)\n",
        "print(\"3x3 identity matrix\")\n",
        "print(a)"
      ]
    },
    {
      "cell_type": "markdown",
      "metadata": {
        "id": "W7EwcQdi-EII"
      },
      "source": [
        "#### 12. Create a 3x3x3 array with random values (★☆☆) \n",
        "(**hint**: np.random.random)"
      ]
    },
    {
      "cell_type": "code",
      "execution_count": null,
      "metadata": {
        "collapsed": true,
        "id": "SvqKyADa-EII",
        "colab": {
          "base_uri": "https://localhost:8080/"
        },
        "outputId": "0aabb55a-5a23-4273-9021-25b13445eb82"
      },
      "outputs": [
        {
          "output_type": "stream",
          "name": "stdout",
          "text": [
            "[[[0.31508347 0.57988265 0.07484902]\n",
            "  [0.80560302 0.8062379  0.31376246]\n",
            "  [0.94307277 0.22764807 0.60911787]]\n",
            "\n",
            " [[0.37758109 0.80543279 0.33654859]\n",
            "  [0.6258625  0.28050246 0.02760872]\n",
            "  [0.55690871 0.89828291 0.41762994]]\n",
            "\n",
            " [[0.26629936 0.05566883 0.14883176]\n",
            "  [0.60806937 0.41216707 0.5288133 ]\n",
            "  [0.74022454 0.43449537 0.57303761]]]\n"
          ]
        }
      ],
      "source": [
        "import numpy as np\n",
        "r = np.random.random((3,3,3))\n",
        "print(r)"
      ]
    },
    {
      "cell_type": "markdown",
      "metadata": {
        "id": "LU9mLSBg-EII"
      },
      "source": [
        "#### 13. Create a 10x10 array with random values and find the minimum and maximum values (★☆☆) \n",
        "(**hint**: min, max)"
      ]
    },
    {
      "cell_type": "code",
      "execution_count": null,
      "metadata": {
        "id": "xep2fUB2-EII",
        "colab": {
          "base_uri": "https://localhost:8080/"
        },
        "outputId": "a0658f15-04c0-49d1-ef39-4f7f43985cfb"
      },
      "outputs": [
        {
          "output_type": "stream",
          "name": "stdout",
          "text": [
            "[[0.29695715 0.5015837  0.4204892  0.87937779 0.25936825 0.63314003\n",
            "  0.13670982 0.64741928 0.14249072 0.88172979]\n",
            " [0.56287495 0.88102881 0.65535367 0.07597475 0.70401912 0.49245982\n",
            "  0.50272779 0.11941978 0.01760641 0.49343671]\n",
            " [0.09003325 0.43528025 0.88118987 0.79304384 0.18005074 0.28619457\n",
            "  0.82424136 0.76118255 0.36333084 0.03653337]\n",
            " [0.20535836 0.99980169 0.78373886 0.29003479 0.20589272 0.65056022\n",
            "  0.97362149 0.37000863 0.42908344 0.11420876]\n",
            " [0.58126373 0.4340435  0.23898371 0.36064383 0.15516229 0.9998269\n",
            "  0.68412762 0.23074872 0.13962743 0.77510634]\n",
            " [0.72234788 0.00587153 0.78352826 0.84167928 0.06573545 0.24647478\n",
            "  0.86527305 0.69350401 0.27762485 0.98796209]\n",
            " [0.80304591 0.56490247 0.40574328 0.31030555 0.62068833 0.7355325\n",
            "  0.17619026 0.07853156 0.4358717  0.91295657]\n",
            " [0.24931528 0.46236995 0.8739291  0.39193055 0.64422895 0.27970384\n",
            "  0.77915263 0.75770378 0.32128776 0.85165825]\n",
            " [0.82509527 0.97231855 0.83247032 0.3145306  0.41286276 0.38408671\n",
            "  0.51801646 0.85654763 0.54758609 0.08753207]\n",
            " [0.62370834 0.32921319 0.81682792 0.01549122 0.16928065 0.58764192\n",
            "  0.64030207 0.79314999 0.2292637  0.85736809]]\n",
            "Minimum and Maximum Values: 0.005871526411565076 0.9998269015888842\n"
          ]
        }
      ],
      "source": [
        "import numpy as np\n",
        "x = np.random.random((10,10))\n",
        "print(x)\n",
        "xmin,xmax = x.min(),x.max()\n",
        "print(\"Minimum and Maximum Values:\",xmin,xmax)\n"
      ]
    },
    {
      "cell_type": "markdown",
      "metadata": {
        "id": "IojpE3Kw-EII"
      },
      "source": [
        "#### 14. Create a random vector of size 30 and find the mean value (★☆☆) \n",
        "(**hint**: mean)"
      ]
    },
    {
      "cell_type": "code",
      "execution_count": null,
      "metadata": {
        "id": "JNiDJuA9-EIJ",
        "colab": {
          "base_uri": "https://localhost:8080/"
        },
        "outputId": "2e801a72-0256-4d9a-aac4-e11d92b8c21f"
      },
      "outputs": [
        {
          "output_type": "stream",
          "name": "stdout",
          "text": [
            "[0.62333344 0.79069583 0.95367486 0.74118714 0.48673849 0.58826318\n",
            " 0.27014925 0.84264266 0.60629444 0.12489992 0.47136139 0.23143889\n",
            " 0.18287576 0.35902607 0.05454218 0.53818688 0.35067403 0.03955189\n",
            " 0.79179799 0.43725856 0.92472151 0.82599773 0.08213059 0.75657537\n",
            " 0.87670617 0.79580121 0.10294354 0.08737713 0.04897036 0.8629844 ]\n",
            "mean value for vector is : 0.49496002812743817\n"
          ]
        }
      ],
      "source": [
        "import numpy as np\n",
        "x=np.random.random(30)\n",
        "print(x)\n",
        "xmean = np.mean(x)\n",
        "print(\"mean value for vector is :\",xmean)"
      ]
    },
    {
      "cell_type": "markdown",
      "metadata": {
        "id": "It-OeJSq-EIJ"
      },
      "source": [
        "#### 15. Create a 2d array with 1 on the border and 0 inside (★☆☆) \n",
        "(**hint**: array\\[1:-1, 1:-1\\])"
      ]
    },
    {
      "cell_type": "code",
      "execution_count": null,
      "metadata": {
        "id": "7SKSNy1P-EIJ",
        "colab": {
          "base_uri": "https://localhost:8080/"
        },
        "outputId": "4edeae29-1fb5-43db-ca4b-f51ed62c9da0"
      },
      "outputs": [
        {
          "output_type": "stream",
          "name": "stdout",
          "text": [
            "original array\n",
            "[[1. 1. 1. 1.]\n",
            " [1. 1. 1. 1.]\n",
            " [1. 1. 1. 1.]\n",
            " [1. 1. 1. 1.]]\n",
            "1 on the border and 0 inside in the array\n",
            "[[1. 1. 1. 1.]\n",
            " [1. 0. 0. 1.]\n",
            " [1. 0. 0. 1.]\n",
            " [1. 1. 1. 1.]]\n"
          ]
        }
      ],
      "source": [
        "import numpy as np\n",
        "\n",
        "x = np.ones((4,4))\n",
        "print(\"original array\")\n",
        "print(x)\n",
        "x[1:-1,1:-1] = 0\n",
        "print(\"1 on the border and 0 inside in the array\")\n",
        "print(x)\n"
      ]
    },
    {
      "cell_type": "markdown",
      "metadata": {
        "id": "haLJKFBM-EIJ"
      },
      "source": [
        "#### 16. How to add a border (filled with 0's) around an existing array? (★☆☆) \n",
        "(**hint**: np.pad)"
      ]
    },
    {
      "cell_type": "code",
      "execution_count": null,
      "metadata": {
        "id": "HTm3xCwd-EIK",
        "colab": {
          "base_uri": "https://localhost:8080/"
        },
        "outputId": "78b3017b-e708-4ce6-f9bc-f784e1065af4"
      },
      "outputs": [
        {
          "output_type": "stream",
          "name": "stdout",
          "text": [
            "Original array:\n",
            "[[1. 1. 1. 1.]\n",
            " [1. 1. 1. 1.]\n",
            " [1. 1. 1. 1.]\n",
            " [1. 1. 1. 1.]]\n",
            "0 on the border and 1 inside in the array\n",
            "[[0. 0. 0. 0. 0. 0.]\n",
            " [0. 1. 1. 1. 1. 0.]\n",
            " [0. 1. 1. 1. 1. 0.]\n",
            " [0. 1. 1. 1. 1. 0.]\n",
            " [0. 1. 1. 1. 1. 0.]\n",
            " [0. 0. 0. 0. 0. 0.]]\n"
          ]
        }
      ],
      "source": [
        "import numpy as np\n",
        "\n",
        "x = np.ones((4,4))\n",
        "print(\"Original array:\")\n",
        "print(x)\n",
        "print(\"0 on the border and 1 inside in the array\")\n",
        "x = np.pad(x, pad_width=1, mode='constant', constant_values=0)\n",
        "print(x)"
      ]
    },
    {
      "cell_type": "markdown",
      "metadata": {
        "id": "20TP_Imn-EIK"
      },
      "source": [
        "#### 17. What is the result of the following expression? (★☆☆) \n",
        "(**hint**: NaN = not a number, inf = infinity)"
      ]
    },
    {
      "cell_type": "markdown",
      "metadata": {
        "id": "zwCprydV-EIK"
      },
      "source": [
        "```python\n",
        "0 * np.nan\n",
        "np.nan == np.nan\n",
        "np.inf > np.nan\n",
        "np.nan - np.nan\n",
        "0.3 == 3 * 0.1\n",
        "```"
      ]
    },
    {
      "cell_type": "code",
      "execution_count": null,
      "metadata": {
        "id": "JaaMX_L5-EIK",
        "colab": {
          "base_uri": "https://localhost:8080/"
        },
        "outputId": "2b266919-edd8-436a-ecf4-3a0f670ed851"
      },
      "outputs": [
        {
          "output_type": "stream",
          "name": "stdout",
          "text": [
            "nan\n",
            "False\n",
            "False\n",
            "False\n",
            "False\n"
          ]
        }
      ],
      "source": [
        "import numpy as np\n",
        "\n",
        "print(0*np.nan)\n",
        "print(np.nan == np.nan)\n",
        "print(np.inf > np.nan)\n",
        "print(np.inf > np.nan)\n",
        "print(0.3 == 3 * 0.1)"
      ]
    },
    {
      "cell_type": "markdown",
      "metadata": {
        "id": "KbXFUG5N-EIL"
      },
      "source": [
        "#### 18. Create a 5x5 matrix with values 1,2,3,4 just below the diagonal (★☆☆) \n",
        "(**hint**: np.diag)"
      ]
    },
    {
      "cell_type": "code",
      "execution_count": null,
      "metadata": {
        "id": "jH4RH56N-EIL",
        "colab": {
          "base_uri": "https://localhost:8080/"
        },
        "outputId": "08acbf1a-82ab-4fd4-aaf6-2925b8aaf12b"
      },
      "outputs": [
        {
          "output_type": "stream",
          "name": "stdout",
          "text": [
            "[[1 0 0 0 0]\n",
            " [0 2 0 0 0]\n",
            " [0 0 3 0 0]\n",
            " [0 0 0 4 0]\n",
            " [0 0 0 0 5]]\n"
          ]
        }
      ],
      "source": [
        "import numpy as np\n",
        "x = np.diag([1, 2, 3, 4, 5])\n",
        "print(x)"
      ]
    },
    {
      "cell_type": "markdown",
      "metadata": {
        "id": "8p_o1L7O-EIL"
      },
      "source": [
        "#### 19. Create a 8x8 matrix and fill it with a checkerboard pattern (★☆☆) \n",
        "(**hint**: array\\[::2\\])"
      ]
    },
    {
      "cell_type": "code",
      "execution_count": null,
      "metadata": {
        "id": "Dbv0MdFR-EIL",
        "colab": {
          "base_uri": "https://localhost:8080/"
        },
        "outputId": "6737d2f5-3d12-4367-ac64-e411133a382a"
      },
      "outputs": [
        {
          "output_type": "stream",
          "name": "stdout",
          "text": [
            "Checkerboard pattern:\n",
            "[[0 1 0 1 0 1 0 1]\n",
            " [1 0 1 0 1 0 1 0]\n",
            " [0 1 0 1 0 1 0 1]\n",
            " [1 0 1 0 1 0 1 0]\n",
            " [0 1 0 1 0 1 0 1]\n",
            " [1 0 1 0 1 0 1 0]\n",
            " [0 1 0 1 0 1 0 1]\n",
            " [1 0 1 0 1 0 1 0]]\n"
          ]
        }
      ],
      "source": [
        "import numpy as np\n",
        "x = np.ones((3,3))\n",
        "print(\"Checkerboard pattern:\")\n",
        "x = np.zeros((8,8),dtype=int)\n",
        "x[1::2,::2] = 1\n",
        "x[::2,1::2] = 1\n",
        "print(x)"
      ]
    },
    {
      "cell_type": "markdown",
      "metadata": {
        "id": "rdJOqzRW-EIM"
      },
      "source": [
        "#### 20. Consider a (6,7,8) shape array, what is the index (x,y,z) of the 100th element? \n",
        "(**hint**: np.unravel_index)"
      ]
    },
    {
      "cell_type": "code",
      "execution_count": null,
      "metadata": {
        "id": "1m0Wn4IO-EIM",
        "colab": {
          "base_uri": "https://localhost:8080/"
        },
        "outputId": "d3d9f4b1-e525-4a3e-ffd4-5bffcec04349"
      },
      "outputs": [
        {
          "output_type": "stream",
          "name": "stdout",
          "text": [
            "(1, 5, 4)\n"
          ]
        }
      ],
      "source": [
        "print (np.unravel_index(100, (6,7,8)))"
      ]
    },
    {
      "cell_type": "markdown",
      "metadata": {
        "id": "16M_aFlr-EIM"
      },
      "source": [
        "#### 21. Create a checkerboard 8x8 matrix using the tile function (★☆☆) \n",
        "(**hint**: np.tile)"
      ]
    },
    {
      "cell_type": "code",
      "execution_count": null,
      "metadata": {
        "id": "CMLtYXWd-EIM",
        "colab": {
          "base_uri": "https://localhost:8080/"
        },
        "outputId": "40ae803f-d0aa-45c1-f507-511457b50dd1"
      },
      "outputs": [
        {
          "output_type": "stream",
          "name": "stdout",
          "text": [
            "[[0 1 0 1 0 1 0 1]\n",
            " [1 0 1 0 1 0 1 0]\n",
            " [0 1 0 1 0 1 0 1]\n",
            " [1 0 1 0 1 0 1 0]\n",
            " [0 1 0 1 0 1 0 1]\n",
            " [1 0 1 0 1 0 1 0]\n",
            " [0 1 0 1 0 1 0 1]\n",
            " [1 0 1 0 1 0 1 0]]\n"
          ]
        }
      ],
      "source": [
        "array= np.array([[0,1], [1,0]])\n",
        "Z = np.tile(array,(4,4))\n",
        "print (Z)"
      ]
    },
    {
      "cell_type": "markdown",
      "metadata": {
        "id": "4DAx3GTb-EIM"
      },
      "source": [
        "#### 22. Normalize a 5x5 random matrix (★☆☆) \n",
        "(**hint**: (x - min) / (max - min))"
      ]
    },
    {
      "cell_type": "code",
      "execution_count": null,
      "metadata": {
        "id": "iaWbfPK2-EIN",
        "colab": {
          "base_uri": "https://localhost:8080/"
        },
        "outputId": "a1e581bf-580c-463c-966b-46dae71c5df4"
      },
      "outputs": [
        {
          "output_type": "stream",
          "name": "stdout",
          "text": [
            "[[0.79641427 0.85432843 1.         0.88701115 0.19922745]\n",
            " [0.056787   0.07401147 0.57302284 0.24176043 0.08418302]\n",
            " [0.01068437 0.33286958 0.58021147 0.87124289 0.02091322]\n",
            " [0.         0.29344746 0.48849863 0.38247951 0.54467024]\n",
            " [0.59818302 0.63872982 0.97248852 0.26157106 0.3951972 ]]\n"
          ]
        }
      ],
      "source": [
        "Z = np.random.random((5,5))\n",
        "Zmax, Zmin = Z.max(), Z.min()\n",
        "Z= (Z-Zmin)/(Zmax-Zmin)\n",
        "print (Z)"
      ]
    },
    {
      "cell_type": "markdown",
      "metadata": {
        "id": "w6Yg7wWm-EIN"
      },
      "source": [
        "#### 23. Create a custom dtype that describes a color as four unsigned bytes (RGBA) (★☆☆) \n",
        "(**hint**: np.dtype)"
      ]
    },
    {
      "cell_type": "code",
      "execution_count": null,
      "metadata": {
        "collapsed": true,
        "id": "hGzYQ_y1-EIN"
      },
      "outputs": [],
      "source": []
    },
    {
      "cell_type": "markdown",
      "metadata": {
        "id": "Pg_SgvJQ-EIN"
      },
      "source": [
        "#### 24. Multiply a 5x3 matrix by a 3x2 matrix (real matrix product) (★☆☆) \n",
        "(**hint**: np.dot | @)"
      ]
    },
    {
      "cell_type": "code",
      "execution_count": null,
      "metadata": {
        "id": "fB8um0-t-EIN",
        "colab": {
          "base_uri": "https://localhost:8080/"
        },
        "outputId": "8311e873-cc5a-43b4-b2a6-c274ffd97983"
      },
      "outputs": [
        {
          "output_type": "stream",
          "name": "stdout",
          "text": [
            "[[3. 3.]\n",
            " [3. 3.]\n",
            " [3. 3.]\n",
            " [3. 3.]\n",
            " [3. 3.]]\n"
          ]
        }
      ],
      "source": [
        "Z= np.dot(np.ones((5,3)), np.ones((3,2)))\n",
        "print (Z)"
      ]
    },
    {
      "cell_type": "markdown",
      "metadata": {
        "id": "M7VoM6Km-EIN"
      },
      "source": [
        "#### 25. Given a 1D array, negate all elements which are between 3 and 8, in place. (★☆☆) \n",
        "(**hint**: >, <=)"
      ]
    },
    {
      "cell_type": "code",
      "execution_count": null,
      "metadata": {
        "id": "k_fEbSOm-EIO",
        "colab": {
          "base_uri": "https://localhost:8080/"
        },
        "outputId": "d67754cf-e9e2-4b16-c96a-d9a454763e59"
      },
      "outputs": [
        {
          "output_type": "stream",
          "name": "stdout",
          "text": [
            "[ 0  1  2 -3 -4 -5 -6 -7  8  9 10]\n"
          ]
        }
      ],
      "source": [
        "arr = np.arange(11)\n",
        "\n",
        "m = (arr > 2) & (arr < 8)\n",
        "arr[m] *= -1\n",
        "\n",
        "print(arr)\n",
        "\n"
      ]
    },
    {
      "cell_type": "markdown",
      "metadata": {
        "id": "ubb6rKyv-EIO"
      },
      "source": [
        "#### 26. What is the output of the following script? (★☆☆) \n",
        "(**hint**: np.sum)"
      ]
    },
    {
      "cell_type": "markdown",
      "metadata": {
        "id": "D95CfLox-EIO"
      },
      "source": [
        "```python\n",
        "# Author: Jake VanderPlas\n",
        "\n",
        "print(sum(range(5),-1))\n",
        "from numpy import *\n",
        "print(sum(range(5),-1))\n",
        "```"
      ]
    },
    {
      "cell_type": "code",
      "execution_count": null,
      "metadata": {
        "id": "jBwONfVE-EIO",
        "colab": {
          "base_uri": "https://localhost:8080/"
        },
        "outputId": "1b862ca4-3c4b-4c38-b16d-3400fb574529"
      },
      "outputs": [
        {
          "output_type": "stream",
          "name": "stdout",
          "text": [
            "9\n",
            "10\n"
          ]
        }
      ],
      "source": [
        "print(sum(range(5),-1))\n",
        "from numpy import *\n",
        "print(sum(range(5),-1))"
      ]
    },
    {
      "cell_type": "markdown",
      "metadata": {
        "id": "kNmY4YDt-EIO"
      },
      "source": [
        "#### 27. Consider an integer vector Z, which of these expressions are legal? (★☆☆)"
      ]
    },
    {
      "cell_type": "markdown",
      "metadata": {
        "id": "5O-uhTFm-EIO"
      },
      "source": [
        "```python\n",
        "Z**Z\n",
        "2 << Z >> 2\n",
        "Z <- Z\n",
        "1j*Z\n",
        "Z/1/1\n",
        "Z<Z>Z\n",
        "```"
      ]
    },
    {
      "cell_type": "code",
      "execution_count": null,
      "metadata": {
        "id": "hWjiHUpE-EIP",
        "colab": {
          "base_uri": "https://localhost:8080/"
        },
        "outputId": "55a897d3-c2d3-4f7b-c1c1-d5672855668a"
      },
      "outputs": [
        {
          "output_type": "execute_result",
          "data": {
            "text/plain": [
              "array([1, 1, 4])"
            ]
          },
          "metadata": {},
          "execution_count": 63
        }
      ],
      "source": [
        "Z = np.arange(3)\n",
        "Z ** Z       # = [0^0, 1^1, 2^2] = [1, 1, 4]\n",
        "2 << Z >> 2  # = [0, 1, 2]\n",
        "Z < - Z      # = [False, False, False]\n",
        "1j * Z       # = [0 + 0.j, 0 + 1.j, 0 + 2.j]\n",
        "Z / 1 / 1    # = [0, 1, 2]\n",
        "Z < Z > Z    # ValueError"
      ]
    },
    {
      "cell_type": "markdown",
      "metadata": {
        "id": "0qL2wA-v-EIP"
      },
      "source": [
        "#### 28. What are the result of the following expressions?"
      ]
    },
    {
      "cell_type": "markdown",
      "metadata": {
        "id": "ghSnnr5u-EIP"
      },
      "source": [
        "```python\n",
        "np.array(0) / np.array(0)\n",
        "np.array(0) // np.array(0)\n",
        "np.array([np.nan]).astype(int).astype(float)\n",
        "```"
      ]
    },
    {
      "cell_type": "code",
      "execution_count": null,
      "metadata": {
        "id": "8ZoYpN9c-EIP",
        "colab": {
          "base_uri": "https://localhost:8080/"
        },
        "outputId": "5d193e70-c8f6-4cec-eb71-f951ecd94fe1"
      },
      "outputs": [
        {
          "output_type": "stream",
          "name": "stderr",
          "text": [
            "/usr/local/lib/python3.7/dist-packages/ipykernel_launcher.py:1: RuntimeWarning: invalid value encountered in true_divide\n",
            "  \"\"\"Entry point for launching an IPython kernel.\n",
            "/usr/local/lib/python3.7/dist-packages/ipykernel_launcher.py:2: RuntimeWarning: divide by zero encountered in floor_divide\n",
            "  \n"
          ]
        },
        {
          "output_type": "execute_result",
          "data": {
            "text/plain": [
              "array([-9.22337204e+18])"
            ]
          },
          "metadata": {},
          "execution_count": 68
        }
      ],
      "source": [
        "np.array(0) / np.array(0)\n",
        "np.array(0) // np.array(0)\n",
        "np.array([np.nan]).astype(int).astype(float)"
      ]
    },
    {
      "cell_type": "markdown",
      "metadata": {
        "id": "whhCn2K--EIP"
      },
      "source": [
        "#### 29. How to round away from zero a float array ? (★☆☆) \n",
        "(**hint**: np.uniform, np.copysign, np.ceil, np.abs)"
      ]
    },
    {
      "cell_type": "code",
      "execution_count": null,
      "metadata": {
        "id": "E1KTM9Iq-EIP",
        "colab": {
          "base_uri": "https://localhost:8080/"
        },
        "outputId": "c75384dc-8e44-4ae1-995a-2e5a592c2a2a"
      },
      "outputs": [
        {
          "output_type": "execute_result",
          "data": {
            "text/plain": [
              "array([10.,  3., -5., -7.,  1.,  5.,  9., -7.,  2., -2.])"
            ]
          },
          "metadata": {},
          "execution_count": 72
        }
      ],
      "source": [
        "x = np.random.uniform(-10, +10, 10)\n",
        "x\n",
        "np.copysign(np.ceil(np.abs(x)), x)"
      ]
    },
    {
      "cell_type": "markdown",
      "metadata": {
        "id": "lWA5NscR-EIP"
      },
      "source": [
        "#### 30. How to find common values between two arrays? (★☆☆) \n",
        "(**hint**: np.intersect1d)"
      ]
    },
    {
      "cell_type": "code",
      "execution_count": null,
      "metadata": {
        "id": "QiIa1s6Q-EIQ",
        "colab": {
          "base_uri": "https://localhost:8080/"
        },
        "outputId": "2e0f2eeb-8868-422d-eb49-758e4fb7321c"
      },
      "outputs": [
        {
          "output_type": "execute_result",
          "data": {
            "text/plain": [
              "array([5, 6, 7, 8, 9])"
            ]
          },
          "metadata": {},
          "execution_count": 73
        }
      ],
      "source": [
        "x = np.arange(0, 10)\n",
        "y = np.arange(5, 15)\n",
        "np.intersect1d(x, y)"
      ]
    },
    {
      "cell_type": "markdown",
      "metadata": {
        "id": "4UwVeoYd-EIQ"
      },
      "source": [
        "#### 31. How to ignore all numpy warnings (not recommended)? (★☆☆) \n",
        "(**hint**: np.seterr, np.errstate)"
      ]
    },
    {
      "cell_type": "code",
      "execution_count": null,
      "metadata": {
        "id": "IZv4TawI-EIQ"
      },
      "outputs": [],
      "source": [
        "defaults = np.seterr(all=\"ignore\")\n",
        "Z = np.ones(1) / 0\n",
        "_ = np.seterr(**defaults)"
      ]
    },
    {
      "cell_type": "markdown",
      "metadata": {
        "id": "5YXmMjH--EIQ"
      },
      "source": [
        "#### 32. Is the following expressions true? (★☆☆) \n",
        "(**hint**: imaginary number)"
      ]
    },
    {
      "cell_type": "markdown",
      "metadata": {
        "id": "ZO5nEJRZ-EIQ"
      },
      "source": [
        "```python\n",
        "np.sqrt(-1) == np.emath.sqrt(-1)\n",
        "```"
      ]
    },
    {
      "cell_type": "code",
      "execution_count": null,
      "metadata": {
        "id": "X7GSSNXI-EIQ",
        "colab": {
          "base_uri": "https://localhost:8080/"
        },
        "outputId": "19707abb-a555-4a2d-d25f-d50e816a1175"
      },
      "outputs": [
        {
          "output_type": "stream",
          "name": "stdout",
          "text": [
            "nan\n",
            "1j\n",
            "False\n"
          ]
        }
      ],
      "source": [
        "\n",
        "\n",
        "print(np.sqrt(-1) == np.emath.sqrt(-1))"
      ]
    },
    {
      "cell_type": "markdown",
      "metadata": {
        "id": "UDHLxi0e-EIR"
      },
      "source": [
        "#### 33. How to get the dates of yesterday, today and tomorrow? (★☆☆) \n",
        "(**hint**: np.datetime64, np.timedelta64)"
      ]
    },
    {
      "cell_type": "code",
      "execution_count": null,
      "metadata": {
        "collapsed": true,
        "id": "_F_VujHe-EIR",
        "colab": {
          "base_uri": "https://localhost:8080/"
        },
        "outputId": "68d14830-453c-4fd6-c042-a015b7184859"
      },
      "outputs": [
        {
          "output_type": "stream",
          "name": "stdout",
          "text": [
            "Today: 2022-10-26\n",
            "yesterday: 2022-10-25\n",
            "tomorrow : 2022-10-27\n"
          ]
        }
      ],
      "source": [
        "today = np.datetime64('today', 'D')\n",
        "print(\"Today:\",today)\n",
        "yesterday = np.datetime64('today', 'D')- np.timedelta64(1, 'D')\n",
        "print(\"yesterday:\",yesterday)\n",
        "tomorrow=np.datetime64('today', 'D')+np.timedelta64(1, 'D')\n",
        "print(\"tomorrow :\",tomorrow)\n"
      ]
    },
    {
      "cell_type": "markdown",
      "metadata": {
        "id": "tdzVXGac-EIR"
      },
      "source": [
        "#### 34. How to get all the dates corresponding to the month of July 2016? (★★☆) \n",
        "(**hint**: np.arange(dtype=datetime64\\['D'\\]))"
      ]
    },
    {
      "cell_type": "code",
      "execution_count": null,
      "metadata": {
        "id": "T9G0U0Pb-EIR",
        "colab": {
          "base_uri": "https://localhost:8080/"
        },
        "outputId": "9b3a4b5e-5806-4f1d-f2af-f6033e1ce5a5"
      },
      "outputs": [
        {
          "output_type": "execute_result",
          "data": {
            "text/plain": [
              "array(['2016-07-01', '2016-07-02', '2016-07-03', '2016-07-04',\n",
              "       '2016-07-05', '2016-07-06', '2016-07-07', '2016-07-08',\n",
              "       '2016-07-09', '2016-07-10', '2016-07-11', '2016-07-12',\n",
              "       '2016-07-13', '2016-07-14', '2016-07-15', '2016-07-16',\n",
              "       '2016-07-17', '2016-07-18', '2016-07-19', '2016-07-20',\n",
              "       '2016-07-21', '2016-07-22', '2016-07-23', '2016-07-24',\n",
              "       '2016-07-25', '2016-07-26', '2016-07-27', '2016-07-28',\n",
              "       '2016-07-29', '2016-07-30', '2016-07-31'], dtype='datetime64[D]')"
            ]
          },
          "metadata": {},
          "execution_count": 89
        }
      ],
      "source": [
        "x = np.arange('2016-07', '2016-08', dtype='datetime64[D]')\n",
        "x"
      ]
    },
    {
      "cell_type": "markdown",
      "metadata": {
        "id": "vMUoEwYQ-EIS"
      },
      "source": [
        "#### 35. How to compute ((A+B)\\*(-A/2)) in place (without copy)? (★★☆) \n",
        "(**hint**: np.add(out=), np.negative(out=), np.multiply(out=), np.divide(out=))"
      ]
    },
    {
      "cell_type": "code",
      "execution_count": null,
      "metadata": {
        "id": "VqACU8zk-EIS",
        "colab": {
          "base_uri": "https://localhost:8080/"
        },
        "outputId": "eff0e73f-8f8e-4cc2-dc07-7abb3db983e9"
      },
      "outputs": [
        {
          "output_type": "execute_result",
          "data": {
            "text/plain": [
              "array([-1.5, -1.5, -1.5])"
            ]
          },
          "metadata": {},
          "execution_count": 90
        }
      ],
      "source": [
        "A = np.ones(3) * 1\n",
        "B = np.ones(3) * 2\n",
        "C = np.ones(3) * 3\n",
        "np.add(A, B, out=B)\n",
        "np.divide(A, 2, out=A)\n",
        "np.negative(A, out=A)\n",
        "np.multiply(A, B, out=A)"
      ]
    },
    {
      "cell_type": "markdown",
      "metadata": {
        "id": "UL6a--1h-EIS"
      },
      "source": [
        "#### 36. Extract the integer part of a random array using 5 different methods (★★☆) \n",
        "(**hint**: %, np.floor, np.ceil, astype, np.trunc)"
      ]
    },
    {
      "cell_type": "code",
      "execution_count": null,
      "metadata": {
        "id": "swcVqWTk-EIT",
        "colab": {
          "base_uri": "https://localhost:8080/"
        },
        "outputId": "3262264d-a5f5-4197-bd1e-be00c57c95d6"
      },
      "outputs": [
        {
          "output_type": "execute_result",
          "data": {
            "text/plain": [
              "array([ 9.,  8.,  5., -0.,  7., -7., -7.,  7.,  5.,  0.])"
            ]
          },
          "metadata": {},
          "execution_count": 91
        }
      ],
      "source": [
        "x = np.random.uniform(-10, +10, 10)\n",
        "x.astype(np.int32)\n",
        "np.trunc(x)"
      ]
    },
    {
      "cell_type": "markdown",
      "metadata": {
        "id": "Jy_PR6i9-EIT"
      },
      "source": [
        "#### 37. Create a 5x5 matrix with row values ranging from 0 to 4 (★★☆) \n",
        "(**hint**: np.arange)"
      ]
    },
    {
      "cell_type": "code",
      "execution_count": null,
      "metadata": {
        "id": "kzSDCW4u-EIT",
        "colab": {
          "base_uri": "https://localhost:8080/"
        },
        "outputId": "ac96387a-850f-4ba8-a585-7f60b5163a55"
      },
      "outputs": [
        {
          "output_type": "execute_result",
          "data": {
            "text/plain": [
              "array([[0., 1., 2., 3., 4.],\n",
              "       [0., 1., 2., 3., 4.],\n",
              "       [0., 1., 2., 3., 4.],\n",
              "       [0., 1., 2., 3., 4.],\n",
              "       [0., 1., 2., 3., 4.]])"
            ]
          },
          "metadata": {},
          "execution_count": 93
        }
      ],
      "source": [
        "x = np.zeros((5, 5))\n",
        "x += np.arange(5)\n",
        "x"
      ]
    },
    {
      "cell_type": "markdown",
      "metadata": {
        "id": "cU2E4nRT-EIT"
      },
      "source": [
        "#### 38. Consider a generator function that generates 10 integers and use it to build an array (★☆☆) \n",
        "(**hint**: np.fromiter)"
      ]
    },
    {
      "cell_type": "code",
      "execution_count": null,
      "metadata": {
        "id": "TrH04pN7-EIT",
        "colab": {
          "base_uri": "https://localhost:8080/"
        },
        "outputId": "725e028b-c351-4143-a4fd-05497be139f4"
      },
      "outputs": [
        {
          "output_type": "execute_result",
          "data": {
            "text/plain": [
              "array([0., 1., 2., 3., 4., 5., 6., 7., 8., 9.], dtype=float32)"
            ]
          },
          "metadata": {},
          "execution_count": 94
        }
      ],
      "source": [
        "def generate_integers():\n",
        "    for i in range(10):\n",
        "        yield i\n",
        "np.fromiter(generate_integers(), dtype=np.float32, count=-1)"
      ]
    },
    {
      "cell_type": "markdown",
      "metadata": {
        "id": "PjVlVEU2-EIT"
      },
      "source": [
        "#### 39. Create a vector of size 10 with values ranging from 0 to 1, both excluded (★★☆) \n",
        "(**hint**: np.linspace)"
      ]
    },
    {
      "cell_type": "code",
      "execution_count": null,
      "metadata": {
        "id": "7rAWwzlT-EIU",
        "colab": {
          "base_uri": "https://localhost:8080/"
        },
        "outputId": "821e6ce2-4273-4662-eb63-7b1726540cab"
      },
      "outputs": [
        {
          "output_type": "execute_result",
          "data": {
            "text/plain": [
              "array([0. , 1.1, 2.2, 3.3, 4.4, 5.5, 6.6, 7.7, 8.8, 9.9])"
            ]
          },
          "metadata": {},
          "execution_count": 95
        }
      ],
      "source": [
        "np.linspace(start=0, stop=11, num=10, endpoint=False)"
      ]
    },
    {
      "cell_type": "markdown",
      "metadata": {
        "id": "qa1ezDIA-EIU"
      },
      "source": [
        "#### 40. Create a random vector of size 10 and sort it (★★☆) \n",
        "(**hint**: sort)"
      ]
    },
    {
      "cell_type": "code",
      "execution_count": null,
      "metadata": {
        "id": "-w3HXiwF-EIU",
        "colab": {
          "base_uri": "https://localhost:8080/"
        },
        "outputId": "11970dfd-33ea-49e8-93f9-98752a512017"
      },
      "outputs": [
        {
          "output_type": "execute_result",
          "data": {
            "text/plain": [
              "array([0.06311926, 0.06558006, 0.06587678, 0.22004707, 0.25154196,\n",
              "       0.3662603 , 0.37065987, 0.67328414, 0.67457628, 0.84107678])"
            ]
          },
          "metadata": {},
          "execution_count": 100
        }
      ],
      "source": [
        "x = np.random.random(size=10)\n",
        "\n",
        "x.sort()\n",
        "x"
      ]
    },
    {
      "cell_type": "markdown",
      "metadata": {
        "id": "8Qu5HzUs-EIV"
      },
      "source": [
        "#### 41. How to sum a small array faster than np.sum? (★★☆) \n",
        "(**hint**: np.add.reduce)"
      ]
    },
    {
      "cell_type": "code",
      "execution_count": null,
      "metadata": {
        "id": "S6nB1B4W-EIW",
        "colab": {
          "base_uri": "https://localhost:8080/"
        },
        "outputId": "548a64bc-7e29-48a7-c881-939fa1898c1b"
      },
      "outputs": [
        {
          "output_type": "stream",
          "name": "stdout",
          "text": [
            "3.2758712768554688\n",
            "2.072572708129883\n"
          ]
        }
      ],
      "source": [
        "import time\n",
        "\n",
        "begin_time = time.time()\n",
        "x = np.arange(1000000)\n",
        "np.sum(x)\n",
        "end_time = time.time()\n",
        "print(str(1000*(end_time - begin_time)))\n",
        "\n",
        "begin_time2 = time.time()\n",
        "x = np.arange(1000000)\n",
        "np.add.reduce(x)\n",
        "end_time2 = time.time()\n",
        "print(str(1000*(end_time2 - begin_time2)))"
      ]
    },
    {
      "cell_type": "markdown",
      "metadata": {
        "id": "2IjerR8m-EIW"
      },
      "source": [
        "#### 42. Consider two random array A and B, check if they are equal (★★☆) \n",
        "(**hint**: np.allclose, np.array\\_equal)"
      ]
    },
    {
      "cell_type": "code",
      "execution_count": null,
      "metadata": {
        "id": "ogLP5pTT-EIW",
        "colab": {
          "base_uri": "https://localhost:8080/"
        },
        "outputId": "62402bc6-ebfb-4547-ae32-f6a02d8fadf3"
      },
      "outputs": [
        {
          "output_type": "execute_result",
          "data": {
            "text/plain": [
              "True"
            ]
          },
          "metadata": {},
          "execution_count": 108
        }
      ],
      "source": [
        "A = np.arange(10)\n",
        "B = np.arange(10)\n",
        "np.array_equal(A, B)"
      ]
    },
    {
      "cell_type": "markdown",
      "metadata": {
        "id": "AegkejPg-EIW"
      },
      "source": [
        "#### 43. Make an array immutable (read-only) (★★☆) \n",
        "(**hint**: flags.writeable)"
      ]
    },
    {
      "cell_type": "code",
      "execution_count": null,
      "metadata": {
        "id": "Thl7yn_w-EIW",
        "colab": {
          "base_uri": "https://localhost:8080/",
          "height": 201
        },
        "outputId": "045ecbca-7cc6-4b04-e720-2fd95b97bcf8"
      },
      "outputs": [
        {
          "output_type": "error",
          "ename": "ValueError",
          "evalue": "ignored",
          "traceback": [
            "\u001b[0;31m---------------------------------------------------------------------------\u001b[0m",
            "\u001b[0;31mValueError\u001b[0m                                Traceback (most recent call last)",
            "\u001b[0;32m<ipython-input-110-2c37cbcb6cf7>\u001b[0m in \u001b[0;36m<module>\u001b[0;34m\u001b[0m\n\u001b[1;32m      1\u001b[0m \u001b[0mx\u001b[0m \u001b[0;34m=\u001b[0m \u001b[0mnp\u001b[0m\u001b[0;34m.\u001b[0m\u001b[0mzeros\u001b[0m\u001b[0;34m(\u001b[0m\u001b[0;36m10\u001b[0m\u001b[0;34m)\u001b[0m\u001b[0;34m\u001b[0m\u001b[0;34m\u001b[0m\u001b[0m\n\u001b[1;32m      2\u001b[0m \u001b[0mx\u001b[0m\u001b[0;34m.\u001b[0m\u001b[0mflags\u001b[0m\u001b[0;34m.\u001b[0m\u001b[0mwriteable\u001b[0m \u001b[0;34m=\u001b[0m \u001b[0;32mFalse\u001b[0m\u001b[0;34m\u001b[0m\u001b[0;34m\u001b[0m\u001b[0m\n\u001b[0;32m----> 3\u001b[0;31m \u001b[0mx\u001b[0m\u001b[0;34m[\u001b[0m\u001b[0;36m1\u001b[0m\u001b[0;34m]\u001b[0m \u001b[0;34m=\u001b[0m \u001b[0;36m1\u001b[0m\u001b[0;34m\u001b[0m\u001b[0;34m\u001b[0m\u001b[0m\n\u001b[0m",
            "\u001b[0;31mValueError\u001b[0m: assignment destination is read-only"
          ]
        }
      ],
      "source": [
        "x = np.zeros(10)\n",
        "x.flags.writeable = False\n",
        "x[1] = 1"
      ]
    },
    {
      "cell_type": "markdown",
      "metadata": {
        "id": "ocNxDUeq-EIX"
      },
      "source": [
        "#### 44. Consider a random 10x2 matrix representing cartesian coordinates, convert them to polar coordinates (★★☆) \n",
        "(**hint**: np.sqrt, np.arctan2)"
      ]
    },
    {
      "cell_type": "code",
      "execution_count": null,
      "metadata": {
        "id": "z7yqM3n0-EIX",
        "colab": {
          "base_uri": "https://localhost:8080/"
        },
        "outputId": "0e413e19-8306-42a6-c1c2-8a0954d15876"
      },
      "outputs": [
        {
          "output_type": "stream",
          "name": "stdout",
          "text": [
            "[0.83867384 0.82023258 0.56967534 0.51016192 0.53831454 0.84831329\n",
            " 0.25637971 0.65268306 0.41779003 0.51839213]\n",
            "[1.54670811 0.96973042 0.92704294 0.26378147 0.16833146 0.82992346\n",
            " 0.68414949 1.33451072 0.62820284 0.27699569]\n"
          ]
        }
      ],
      "source": [
        "Z = np.random.random((10, 2))\n",
        "X, Y = Z[:, 0], Z[:, 1]\n",
        "R = np.sqrt(X ** 2 + Y ** 2)\n",
        "T = np.arctan2(Y, X)\n",
        "print(R)\n",
        "print(T)"
      ]
    },
    {
      "cell_type": "markdown",
      "metadata": {
        "id": "eJjDbdNV-EIX"
      },
      "source": [
        "#### 45. Create random vector of size 10 and replace the maximum value by 0 (★★☆) \n",
        "(**hint**: argmax)"
      ]
    },
    {
      "cell_type": "code",
      "execution_count": null,
      "metadata": {
        "id": "iW4BuK6T-EIX",
        "colab": {
          "base_uri": "https://localhost:8080/"
        },
        "outputId": "7438542f-0f18-47dd-e2b0-55dc70489116"
      },
      "outputs": [
        {
          "output_type": "execute_result",
          "data": {
            "text/plain": [
              "array([0.51337875, 0.        , 0.1537356 , 0.5625059 , 0.48172655,\n",
              "       0.        , 0.11304385, 0.13767577, 0.0944672 , 0.56437567])"
            ]
          },
          "metadata": {},
          "execution_count": 113
        }
      ],
      "source": [
        "x = np.random.random(10)\n",
        "x[x == np.max(x)] = 0\n",
        "x[x.argmax()] = 0\n",
        "x"
      ]
    },
    {
      "cell_type": "markdown",
      "metadata": {
        "id": "ZAMDfjP0-EIX"
      },
      "source": [
        "#### 46. Create a structured array with `x` and `y` coordinates covering the \\[0,1\\]x\\[0,1\\] area (★★☆) \n",
        "(**hint**: np.meshgrid)"
      ]
    },
    {
      "cell_type": "code",
      "execution_count": null,
      "metadata": {
        "id": "k2wwaXJ7-EIX",
        "colab": {
          "base_uri": "https://localhost:8080/"
        },
        "outputId": "26ee2351-84f9-46e6-c31a-7bd4879e3e3a"
      },
      "outputs": [
        {
          "output_type": "execute_result",
          "data": {
            "text/plain": [
              "array([[(0.  , 0.  ), (0.25, 0.  ), (0.5 , 0.  ), (0.75, 0.  ),\n",
              "        (1.  , 0.  )],\n",
              "       [(0.  , 0.25), (0.25, 0.25), (0.5 , 0.25), (0.75, 0.25),\n",
              "        (1.  , 0.25)],\n",
              "       [(0.  , 0.5 ), (0.25, 0.5 ), (0.5 , 0.5 ), (0.75, 0.5 ),\n",
              "        (1.  , 0.5 )],\n",
              "       [(0.  , 0.75), (0.25, 0.75), (0.5 , 0.75), (0.75, 0.75),\n",
              "        (1.  , 0.75)],\n",
              "       [(0.  , 1.  ), (0.25, 1.  ), (0.5 , 1.  ), (0.75, 1.  ),\n",
              "        (1.  , 1.  )]], dtype=[('x', '<f8'), ('y', '<f8')])"
            ]
          },
          "metadata": {},
          "execution_count": 115
        }
      ],
      "source": [
        "z = np.zeros((5, 5), [('x', float), ('y', float)])\n",
        "z['x'], z['y'] = np.meshgrid(np.linspace(0, 1, 5), np.linspace(0, 1, 5))\n",
        "z"
      ]
    },
    {
      "cell_type": "markdown",
      "metadata": {
        "id": "f_I-rVmU-EIX"
      },
      "source": [
        "####  47. Given two arrays, X and Y, construct the Cauchy matrix C (Cij =1/(xi - yj)) \n",
        "(**hint**: np.subtract.outer)"
      ]
    },
    {
      "cell_type": "code",
      "execution_count": null,
      "metadata": {
        "id": "HGAC1d0G-EIY",
        "colab": {
          "base_uri": "https://localhost:8080/"
        },
        "outputId": "4102c16c-32df-45a5-9ccf-a9ee2c80f14b"
      },
      "outputs": [
        {
          "output_type": "execute_result",
          "data": {
            "text/plain": [
              "array([[[[  -1.8606685 ,   -1.97827942,   -7.41447444,   14.88715632,\n",
              "            -2.320385  ],\n",
              "         [  -2.36713212,    5.10446585,   -2.09434735,    3.34665511,\n",
              "            75.15549261],\n",
              "         [  -9.12471812,  -55.85974134,   -1.60077393,   -3.45229516,\n",
              "            -9.99987095],\n",
              "         [  -1.86289756,   10.72010963,   -4.99104148,  -11.53883008,\n",
              "            -2.91733892],\n",
              "         [  -1.83617997,   -1.75814593,   -9.7449606 ,   -3.30879056,\n",
              "            -3.20365839]],\n",
              "\n",
              "        [[  -4.23060299,   -4.89185473,    6.01695587,    2.71561789,\n",
              "            -7.69854698],\n",
              "         [  -8.23833143,    2.01217281,   -5.66869668,    1.66701636,\n",
              "             3.18092391],\n",
              "         [   5.22258945,    3.53149314,   -3.08995311,   87.67351635,\n",
              "             4.97346573],\n",
              "         [  -4.24214424,    2.53581231,    9.92956563,    4.66408284,\n",
              "           -23.97517323],\n",
              "         [  -4.10609154,   -3.73534797,    5.03902264, -864.37170335,\n",
              "           -90.29492118]],\n",
              "\n",
              "        [[  -1.26089583,   -1.31382661,   -2.56070796,   -5.30578058,\n",
              "            -1.45643375],\n",
              "         [  -1.47471352,  -16.73954137,   -1.36403058,   23.16952896,\n",
              "            -4.12643513],\n",
              "         [  -2.73793996,   -3.65567012,   -1.13592023,   -1.83382586,\n",
              "            -2.8117771 ],\n",
              "         [  -1.26191907,   -6.15903682,   -2.19296004,   -2.92133224,\n",
              "            -1.67105649],\n",
              "         [  -1.24960231,   -1.21296415,   -2.79124695,   -1.79252938,\n",
              "            -1.76121819]],\n",
              "\n",
              "        [[  -2.92291667,   -3.22401205,   16.54371871,    3.80968021,\n",
              "            -4.24365835],\n",
              "         [  -4.40266998,    2.55607967,   -3.54410745,    2.02378743,\n",
              "             4.79333591],\n",
              "         [  11.66523552,    5.63649412,   -2.32893613,  -10.5993798 ,\n",
              "            10.49142489],\n",
              "         [  -2.92842113,    3.46500519, -198.34360138,    9.20358359,\n",
              "            -6.78145826],\n",
              "         [  -2.86293665,   -2.67763589,   10.78747642,   -9.35383648,\n",
              "            -8.55974459]],\n",
              "\n",
              "        [[  -1.70313394,   -1.8011482 ,   -5.41761824,   57.27257488,\n",
              "            -2.0804095 ],\n",
              "         [  -2.11790927,    6.8401674 ,   -1.89685888,    4.01454581,\n",
              "           -27.46808702],\n",
              "         [  -6.27730398,  -14.78992124,   -1.48277872,   -2.94660166,\n",
              "            -6.67945014],\n",
              "         [  -1.70500135,   22.95104734,   -3.99887047,   -7.33269376,\n",
              "            -2.54783711],\n",
              "         [  -1.68259366,   -1.61683414,   -6.56474794,   -2.84141873,\n",
              "            -2.7635396 ]]],\n",
              "\n",
              "\n",
              "       [[[  25.16361126,   13.94867324,    2.26085856,    1.55194395,\n",
              "             6.83909358],\n",
              "         [   6.46291068,    1.29351371,   10.02954142,    1.14156947,\n",
              "             1.69351762],\n",
              "         [   2.13863146,    1.78801574,  -21.04525104,    3.47803342,\n",
              "             2.09564577],\n",
              "         [  24.76289271,    1.49150484,    2.65377154,    2.03866419,\n",
              "             4.26615636],\n",
              "         [  30.70098198,  119.04517352,    2.10719721,    3.63694636,\n",
              "             3.77304346]],\n",
              "\n",
              "        [[  -1.4070223 ,   -1.47325459,   -3.24516365,   -9.42440028,\n",
              "            -1.65496466],\n",
              "         [  -1.67860809,   44.19432204,   -1.53667602,    7.96645997,\n",
              "            -6.25102377],\n",
              "         [  -3.53516823,   -5.23063098,   -1.25316836,   -2.16009821,\n",
              "            -3.65923942],\n",
              "         [  -1.40829656,  -12.50048204,   -2.67638353,   -3.84699069,\n",
              "            -1.93776789],\n",
              "         [  -1.39297404,   -1.34759894,   -3.62454519,   -2.1030283 ,\n",
              "            -2.06006029]],\n",
              "\n",
              "        [[  84.27665387,   22.8221066 ,    2.4129201 ,    1.62211546,\n",
              "             8.44994502],\n",
              "         [   7.88302824,    1.34189676,   13.92152438,    1.17908852,\n",
              "             1.77742173],\n",
              "         [   2.2742029 ,    1.88180407,  -13.26420034,    3.85141904,\n",
              "             2.22565646],\n",
              "         [  79.94395958,    1.55620331,    2.86575694,    2.1614937 ,\n",
              "             4.84193987],\n",
              "         [ 212.85624904,  -51.35033624,    2.23869008,    4.04724434,\n",
              "             4.21649533]],\n",
              "\n",
              "        [[  -1.64489491,   -1.73614098,   -4.86922122, -300.45105042,\n",
              "            -1.99416392],\n",
              "         [  -2.02859322,    7.97406455,   -1.8248973 ,    4.3800962 ,\n",
              "           -17.48417497],\n",
              "         [  -5.55269433,  -11.31192219,   -1.4384388 ,   -2.77652298,\n",
              "            -5.86504707],\n",
              "         [  -1.64663672,   43.89371827,   -3.6919536 ,   -6.36277123,\n",
              "            -2.41967606],\n",
              "         [  -1.62572746,   -1.56425655,   -5.77642465,   -2.68293917,\n",
              "            -2.61339885]],\n",
              "\n",
              "        [[ -52.47507667,   77.55054185,    2.6074718 ,    1.7077769 ,\n",
              "            11.43881837],\n",
              "         [  10.42400086,    1.39998873,   24.44457879,    1.22370503,\n",
              "             1.88079403],\n",
              "         [   2.44623089,    1.99807145,   -9.40616544,    4.37211582,\n",
              "             2.39015281],\n",
              "         [ -54.3077279 ,    1.63487593,    3.14440097,    2.31631246,\n",
              "             5.6945518 ],\n",
              "         [ -38.1325109 ,  -19.84268037,    2.40519074,    4.62621675,\n",
              "             4.84868612]]],\n",
              "\n",
              "\n",
              "       [[[  -9.84154806,  -14.35573985,    3.32270189,    1.98805887,\n",
              "           205.41252864],\n",
              "         [  74.74349497,    1.58293444,  -24.01277549,    1.36121644,\n",
              "             2.22649231],\n",
              "         [   3.06523941,    2.39274956,   -5.29474206,    6.84140309,\n",
              "             2.9776977 ],\n",
              "         [  -9.90423099,    1.88995243,    4.24678521,    2.86395646,\n",
              "            10.7465545 ],\n",
              "         [  -9.19306014,   -7.52163699,    3.0010737 ,    7.48469469,\n",
              "             8.08485386]],\n",
              "\n",
              "        [[  24.16173032,   13.63526416,    2.25246691,    1.5479852 ,\n",
              "             6.76287774],\n",
              "         [   6.39480698,    1.29076244,    9.86647733,    1.13942607,\n",
              "             1.68880476],\n",
              "         [   2.13112112,    1.78276307,  -21.80130306,    3.45821356,\n",
              "             2.0884338 ],\n",
              "         [  23.79205111,    1.48784806,    2.64221715,    2.03183845,\n",
              "             4.23637488],\n",
              "         [  29.22260137,   99.52216571,    2.09990565,    3.6152796 ,\n",
              "             3.74972999]],\n",
              "\n",
              "        [[  -8.42093951,  -11.52072233,    3.52338065,    2.05819908,\n",
              "           -81.47759723],\n",
              "         [-265.782578  ,    1.62708369,  -17.01083459,    1.39373703,\n",
              "             2.31483946],\n",
              "         [   3.23522799,    2.49508672,   -4.85417624,    7.75029888,\n",
              "             3.13786168],\n",
              "         [  -8.46679005,    1.95323075,    4.58020856,    3.01181456,\n",
              "            13.17323187],\n",
              "         [  -7.94159615,   -6.66260928,    3.16383097,    8.58631335,\n",
              "             9.38557263]],\n",
              "\n",
              "        [[ -10.32176569,  -15.40092461,    3.27131708,    1.96954844,\n",
              "           104.2140602 ],\n",
              "         [  55.22886854,    1.57117711,  -27.08770582,    1.35251303,\n",
              "             2.20330151],\n",
              "         [   3.02145682,    2.36598684,   -5.43067327,    6.62707086,\n",
              "             2.93636335],\n",
              "         [ -10.39073652,    1.87321613,    4.163204  ,    2.82569928,\n",
              "            10.22699193],\n",
              "         [  -9.61073406,   -7.79894931,    2.9590924 ,    7.22891395,\n",
              "             7.78722463]],\n",
              "\n",
              "        [[  -6.81349405,   -8.70958046,    3.90926828,    2.1841421 ,\n",
              "           -24.82049058],\n",
              "         [ -31.46786204,    1.70479568,  -11.52046613,    1.45036948,\n",
              "             2.47537362],\n",
              "         [   3.55769021,    2.68260713,   -4.27306314,    9.89988228,\n",
              "             3.44029932],\n",
              "         [  -6.84347959,    2.06630226,    5.25445516,    3.28936792,\n",
              "            20.87877255],\n",
              "         [  -6.49623782,   -5.61459216,    3.47154079,   11.30602196,\n",
              "            12.7339012 ]]],\n",
              "\n",
              "\n",
              "       [[[  -1.2327166 ,   -1.28326054,   -2.44710256,   -4.8401956 ,\n",
              "            -1.41896668],\n",
              "         [  -1.43631245,  -12.84219107,   -1.33111316,   39.95110601,\n",
              "            -3.83922156],\n",
              "         [  -2.60846219,   -3.42844765,   -1.11299944,   -1.77481947,\n",
              "            -2.67539554],\n",
              "         [  -1.23369459,   -5.5403937 ,   -2.1091075 ,   -2.77439367,\n",
              "            -1.62191965],\n",
              "         [  -1.22192006,   -1.18686443,   -2.65680208,   -1.73610976,\n",
              "            -1.70672242]],\n",
              "\n",
              "        [[  -1.62364495,   -1.71248501,   -4.68761108,  -88.61354556,\n",
              "            -1.96301708],\n",
              "         [  -1.99637028,    8.5142663 ,   -1.79877898,    4.5382581 ,\n",
              "           -15.34891034],\n",
              "         [  -5.31775222,  -10.37786506,   -1.42216198,   -2.71651048,\n",
              "            -5.60355176],\n",
              "         [  -1.62534202,   67.45054995,   -3.58659557,   -6.05617035,\n",
              "            -2.37397127],\n",
              "         [  -1.60496673,   -1.54502683,   -5.52260117,   -2.62686314,\n",
              "            -2.56016322]],\n",
              "\n",
              "        [[  -4.57498563,   -5.35824016,    5.43507798,    2.59044995,\n",
              "            -8.92047619],\n",
              "         [  -9.65336688,    1.9426219 ,   -6.30459822,    1.61899498,\n",
              "             3.01053319],\n",
              "         [   4.77854091,    3.32270791,   -3.26972087,   34.24780019,\n",
              "             4.5691302 ],\n",
              "         [  -4.58848533,    2.42633669,    8.43865174,    4.30667992,\n",
              "           -41.81159511],\n",
              "         [  -4.42972599,   -4.00128564,    4.6244018 ,   60.11026723,\n",
              "           148.84977642]],\n",
              "\n",
              "        [[  -8.18644544,  -11.08627098,    3.56612035,    2.07271024,\n",
              "           -63.79644262],\n",
              "         [-139.58649762,    1.63613905,  -16.08037455,    1.40037601,\n",
              "             2.33321123],\n",
              "         [   3.27122709,    2.51644415,   -4.77532752,    7.96015216,\n",
              "             3.17171521],\n",
              "         [  -8.2297714 ,    1.9662948 ,    4.65269653,    3.04298942,\n",
              "            13.79120635],\n",
              "         [  -7.73270727,   -6.51495977,    3.19825024,    8.8446361 ,\n",
              "             9.6950926 ]],\n",
              "\n",
              "        [[  -1.99310753,   -2.12866687,  -10.08479758,    9.71966849,\n",
              "            -2.5300392 ],\n",
              "         [  -2.5857168 ,    4.31743405,   -2.26365442,    2.9893759 ,\n",
              "            20.4007028 ],\n",
              "         [ -13.53541623,   56.14762846,   -1.69783421,   -3.93777994,\n",
              "           -15.55473179],\n",
              "         [  -1.99566543,    7.75225049,   -6.07360681,  -19.62642018,\n",
              "            -3.25662924],\n",
              "         [  -1.96503514,   -1.87593036,  -14.94657281,   -3.75216131,\n",
              "            -3.61753964]]],\n",
              "\n",
              "\n",
              "       [[[  -1.20008529,   -1.24793681,   -2.32177915,   -4.37328882,\n",
              "            -1.37590223],\n",
              "         [  -1.39220507,  -10.00740794,   -1.29314485,  336.36591192,\n",
              "            -3.53948331],\n",
              "         [  -2.46654571,   -3.18740501,   -1.08632989,   -1.70795584,\n",
              "            -2.52631058],\n",
              "         [  -1.20101217,   -4.93704693,   -2.01534953,   -2.61440124,\n",
              "            -1.5658985 ],\n",
              "         [  -1.18985041,   -1.15658567,   -2.50972518,   -1.67207837,\n",
              "            -1.64480176]],\n",
              "\n",
              "        [[  -2.40190826,   -2.60156406,  -72.64425563,    5.31130605,\n",
              "            -3.2272915 ],\n",
              "         [  -3.31843892,    3.15444978,   -2.80607153,    2.38145461,\n",
              "             7.43984734],\n",
              "         [  86.85692938,    9.68958145,   -1.98573363,   -5.9327197 ,\n",
              "            47.38365865],\n",
              "         [  -2.40562403,    4.66443493,  -12.61775979,   29.03455954,\n",
              "            -4.51115899],\n",
              "         [  -2.36125663,   -2.2337614 ,   54.08775992,   -5.52121298,\n",
              "            -5.23457351]],\n",
              "\n",
              "        [[  -5.44125234,   -6.58632497,    4.57061994,    2.37624502,\n",
              "           -12.93611891],\n",
              "         [ -14.53655297,    1.81961464,   -8.07652089,    1.53264729,\n",
              "             2.72504977],\n",
              "         [   4.09722551,    2.97833517,   -3.68952223,   15.62557221,\n",
              "             3.94230458],\n",
              "         [  -5.46035902,    2.2374235 ,    6.52311282,    3.74537266,\n",
              "            91.89580062],\n",
              "         [  -5.23700328,   -4.64854723,    3.98338315,   19.44209217,\n",
              "            24.08658643]],\n",
              "\n",
              "        [[  -1.31000456,   -1.36723224,   -2.77172465,   -6.29949525,\n",
              "            -1.52235308],\n",
              "         [  -1.54233636,  -33.32445961,   -1.42168521,   13.71912617,\n",
              "            -4.70346698],\n",
              "         [  -2.98056108,   -4.1014392 ,   -1.17562317,   -1.93957358,\n",
              "            -3.06827372],\n",
              "         [  -1.31110909,   -7.5396447 ,   -2.34590976,   -3.19919358,\n",
              "            -1.75841796],\n",
              "         [  -1.29781845,   -1.25834301,   -3.04384339,   -1.89343697,\n",
              "            -1.85853564]],\n",
              "\n",
              "        [[  -4.37662509,   -5.08815029,    5.74437427,    2.65867868,\n",
              "            -8.1961654 ],\n",
              "         [  -8.81077171,    1.98074096,   -5.93397765,    1.64538497,\n",
              "             3.10308025],\n",
              "         [   5.0159944 ,    3.43580378,   -3.16713136,   51.83409846,\n",
              "             4.78575606],\n",
              "         [  -4.38897796,    2.48609454,    9.20846717,    4.49861189,\n",
              "           -29.56528984],\n",
              "         [  -4.24350534,   -3.84872496,    4.84642763,  148.6003973 ,\n",
              "          -313.63169964]]]])"
            ]
          },
          "metadata": {},
          "execution_count": 117
        }
      ],
      "source": [
        "x = np.random.random((5, 5))\n",
        "y = np.random.random((5, 5))\n",
        "c = 1 / (x - y)\n",
        "c = 1 / np.subtract.outer(x, y)\n",
        "np.linalg.det(c)\n",
        "c"
      ]
    },
    {
      "cell_type": "markdown",
      "metadata": {
        "id": "y90RfnLa-EIY"
      },
      "source": [
        "#### 48. Print the minimum and maximum representable value for each numpy scalar type (★★☆) \n",
        "(**hint**: np.iinfo, np.finfo, eps)"
      ]
    },
    {
      "cell_type": "code",
      "execution_count": null,
      "metadata": {
        "id": "pqXMwKD_-EIY",
        "colab": {
          "base_uri": "https://localhost:8080/"
        },
        "outputId": "ef28a38d-02ba-4808-be65-b05e7b354617"
      },
      "outputs": [
        {
          "output_type": "stream",
          "name": "stdout",
          "text": [
            "-128\n",
            "127\n",
            "-2147483648\n",
            "2147483647\n",
            "-9223372036854775808\n",
            "9223372036854775807\n",
            "-3.4028235e+38\n",
            "3.4028235e+38\n",
            "1.1920929e-07\n",
            "-1.7976931348623157e+308\n",
            "1.7976931348623157e+308\n",
            "2.220446049250313e-16\n"
          ]
        }
      ],
      "source": [
        "for dtype in [np.int8, np.int32, np.int64]:\n",
        "   print(np.iinfo(dtype).min)\n",
        "   print(np.iinfo(dtype).max)\n",
        "for dtype in [np.float32, np.float64]:\n",
        "   print(np.finfo(dtype).min)\n",
        "   print(np.finfo(dtype).max)\n",
        "   print(np.finfo(dtype).eps)"
      ]
    },
    {
      "cell_type": "markdown",
      "metadata": {
        "id": "ET6imRip-EIY"
      },
      "source": [
        "#### 49. How to print all the values of an array? (★★☆) \n",
        "(**hint**: np.set\\_printoptions)"
      ]
    },
    {
      "cell_type": "code",
      "execution_count": null,
      "metadata": {
        "id": "URPeXosj-EIY",
        "colab": {
          "base_uri": "https://localhost:8080/"
        },
        "outputId": "7a51c2f1-e8f2-4bcd-f03c-07374f7144cb"
      },
      "outputs": [
        {
          "output_type": "stream",
          "name": "stdout",
          "text": [
            "[[0. 0. 0. 0. 0. 0. 0. 0. 0. 0. 0. 0. 0. 0. 0. 0. 0. 0. 0. 0. 0. 0. 0. 0.\n",
            "  0.]\n",
            " [0. 0. 0. 0. 0. 0. 0. 0. 0. 0. 0. 0. 0. 0. 0. 0. 0. 0. 0. 0. 0. 0. 0. 0.\n",
            "  0.]\n",
            " [0. 0. 0. 0. 0. 0. 0. 0. 0. 0. 0. 0. 0. 0. 0. 0. 0. 0. 0. 0. 0. 0. 0. 0.\n",
            "  0.]\n",
            " [0. 0. 0. 0. 0. 0. 0. 0. 0. 0. 0. 0. 0. 0. 0. 0. 0. 0. 0. 0. 0. 0. 0. 0.\n",
            "  0.]\n",
            " [0. 0. 0. 0. 0. 0. 0. 0. 0. 0. 0. 0. 0. 0. 0. 0. 0. 0. 0. 0. 0. 0. 0. 0.\n",
            "  0.]\n",
            " [0. 0. 0. 0. 0. 0. 0. 0. 0. 0. 0. 0. 0. 0. 0. 0. 0. 0. 0. 0. 0. 0. 0. 0.\n",
            "  0.]\n",
            " [0. 0. 0. 0. 0. 0. 0. 0. 0. 0. 0. 0. 0. 0. 0. 0. 0. 0. 0. 0. 0. 0. 0. 0.\n",
            "  0.]\n",
            " [0. 0. 0. 0. 0. 0. 0. 0. 0. 0. 0. 0. 0. 0. 0. 0. 0. 0. 0. 0. 0. 0. 0. 0.\n",
            "  0.]\n",
            " [0. 0. 0. 0. 0. 0. 0. 0. 0. 0. 0. 0. 0. 0. 0. 0. 0. 0. 0. 0. 0. 0. 0. 0.\n",
            "  0.]\n",
            " [0. 0. 0. 0. 0. 0. 0. 0. 0. 0. 0. 0. 0. 0. 0. 0. 0. 0. 0. 0. 0. 0. 0. 0.\n",
            "  0.]\n",
            " [0. 0. 0. 0. 0. 0. 0. 0. 0. 0. 0. 0. 0. 0. 0. 0. 0. 0. 0. 0. 0. 0. 0. 0.\n",
            "  0.]\n",
            " [0. 0. 0. 0. 0. 0. 0. 0. 0. 0. 0. 0. 0. 0. 0. 0. 0. 0. 0. 0. 0. 0. 0. 0.\n",
            "  0.]\n",
            " [0. 0. 0. 0. 0. 0. 0. 0. 0. 0. 0. 0. 0. 0. 0. 0. 0. 0. 0. 0. 0. 0. 0. 0.\n",
            "  0.]\n",
            " [0. 0. 0. 0. 0. 0. 0. 0. 0. 0. 0. 0. 0. 0. 0. 0. 0. 0. 0. 0. 0. 0. 0. 0.\n",
            "  0.]\n",
            " [0. 0. 0. 0. 0. 0. 0. 0. 0. 0. 0. 0. 0. 0. 0. 0. 0. 0. 0. 0. 0. 0. 0. 0.\n",
            "  0.]\n",
            " [0. 0. 0. 0. 0. 0. 0. 0. 0. 0. 0. 0. 0. 0. 0. 0. 0. 0. 0. 0. 0. 0. 0. 0.\n",
            "  0.]\n",
            " [0. 0. 0. 0. 0. 0. 0. 0. 0. 0. 0. 0. 0. 0. 0. 0. 0. 0. 0. 0. 0. 0. 0. 0.\n",
            "  0.]\n",
            " [0. 0. 0. 0. 0. 0. 0. 0. 0. 0. 0. 0. 0. 0. 0. 0. 0. 0. 0. 0. 0. 0. 0. 0.\n",
            "  0.]\n",
            " [0. 0. 0. 0. 0. 0. 0. 0. 0. 0. 0. 0. 0. 0. 0. 0. 0. 0. 0. 0. 0. 0. 0. 0.\n",
            "  0.]\n",
            " [0. 0. 0. 0. 0. 0. 0. 0. 0. 0. 0. 0. 0. 0. 0. 0. 0. 0. 0. 0. 0. 0. 0. 0.\n",
            "  0.]\n",
            " [0. 0. 0. 0. 0. 0. 0. 0. 0. 0. 0. 0. 0. 0. 0. 0. 0. 0. 0. 0. 0. 0. 0. 0.\n",
            "  0.]\n",
            " [0. 0. 0. 0. 0. 0. 0. 0. 0. 0. 0. 0. 0. 0. 0. 0. 0. 0. 0. 0. 0. 0. 0. 0.\n",
            "  0.]\n",
            " [0. 0. 0. 0. 0. 0. 0. 0. 0. 0. 0. 0. 0. 0. 0. 0. 0. 0. 0. 0. 0. 0. 0. 0.\n",
            "  0.]\n",
            " [0. 0. 0. 0. 0. 0. 0. 0. 0. 0. 0. 0. 0. 0. 0. 0. 0. 0. 0. 0. 0. 0. 0. 0.\n",
            "  0.]\n",
            " [0. 0. 0. 0. 0. 0. 0. 0. 0. 0. 0. 0. 0. 0. 0. 0. 0. 0. 0. 0. 0. 0. 0. 0.\n",
            "  0.]]\n"
          ]
        }
      ],
      "source": [
        "np.set_printoptions()\n",
        "Z = np.zeros((25,25))\n",
        "print(Z)"
      ]
    },
    {
      "cell_type": "markdown",
      "metadata": {
        "id": "Rf8REgw8-EIY"
      },
      "source": [
        "#### 50. How to find the closest value (to a given scalar) in a vector? (★★☆) \n",
        "(**hint**: argmin)"
      ]
    },
    {
      "cell_type": "code",
      "execution_count": null,
      "metadata": {
        "id": "aVDsY0Nc-EIY",
        "colab": {
          "base_uri": "https://localhost:8080/"
        },
        "outputId": "cd7aabf4-35cd-4989-a604-f6e5636ceaee"
      },
      "outputs": [
        {
          "output_type": "stream",
          "name": "stdout",
          "text": [
            "95\n"
          ]
        }
      ],
      "source": [
        "Z = np.arange(100)\n",
        "v = np.random.uniform(0,100)\n",
        "index = (np.abs(Z-v)).argmin()\n",
        "print(Z[index])"
      ]
    },
    {
      "cell_type": "markdown",
      "metadata": {
        "id": "mzPEHscL-EIY"
      },
      "source": [
        "#### 51. Create a structured array representing a position (x,y) and a color (r,g,b) (★★☆) \n",
        "(**hint**: dtype)"
      ]
    },
    {
      "cell_type": "code",
      "execution_count": null,
      "metadata": {
        "id": "dn2p4-zg-EIZ",
        "colab": {
          "base_uri": "https://localhost:8080/"
        },
        "outputId": "d0a750dc-25a2-4274-fbf9-6f4b6a0b0708"
      },
      "outputs": [
        {
          "output_type": "stream",
          "name": "stdout",
          "text": [
            "[((0., 0.), (0., 0., 0.)) ((0., 0.), (0., 0., 0.))\n",
            " ((0., 0.), (0., 0., 0.)) ((0., 0.), (0., 0., 0.))\n",
            " ((0., 0.), (0., 0., 0.)) ((0., 0.), (0., 0., 0.))\n",
            " ((0., 0.), (0., 0., 0.)) ((0., 0.), (0., 0., 0.))\n",
            " ((0., 0.), (0., 0., 0.)) ((0., 0.), (0., 0., 0.))]\n"
          ]
        },
        {
          "output_type": "stream",
          "name": "stderr",
          "text": [
            "/usr/local/lib/python3.7/dist-packages/ipykernel_launcher.py:6: FutureWarning: Passing (type, 1) or '1type' as a synonym of type is deprecated; in a future version of numpy, it will be understood as (type, (1,)) / '(1,)type'.\n",
            "  \n"
          ]
        }
      ],
      "source": [
        "import numpy as np\n",
        "Z = np.zeros(10, [ ('position', [ ('x', float, 1),\n",
        "                                   ('y', float, 1)]),\n",
        "                    ('color',    [ ('r', float, 1),\n",
        "                                   ('g', float, 1),\n",
        "                                   ('b', float, 1)])])\n",
        "print(Z)"
      ]
    },
    {
      "cell_type": "markdown",
      "metadata": {
        "id": "mlCRhfK8-EIZ"
      },
      "source": [
        "#### 52. Consider a random vector with shape (100,2) representing coordinates, find point by point distances (★★☆) \n",
        "(**hint**: np.atleast\\_2d, T, np.sqrt)"
      ]
    },
    {
      "cell_type": "code",
      "execution_count": null,
      "metadata": {
        "id": "ef1irPTO-EIZ",
        "colab": {
          "base_uri": "https://localhost:8080/"
        },
        "outputId": "539d7db6-2b00-4f9c-97b3-3ebeb49c4018"
      },
      "outputs": [
        {
          "output_type": "stream",
          "name": "stdout",
          "text": [
            "[[0.         0.1158754  0.51193949 0.66411283 0.77541591 0.5855646\n",
            "  0.59048072 0.2485768  0.91068338 0.61964116]\n",
            " [0.1158754  0.         0.45676611 0.55379632 0.71844862 0.50440171\n",
            "  0.47675413 0.26097018 0.79486319 0.50381941]\n",
            " [0.51193949 0.45676611 0.         0.70142534 0.26373404 0.15535593\n",
            "  0.60088249 0.31231477 0.73747022 0.55040256]\n",
            " [0.66411283 0.55379632 0.70142534 0.         0.86063198 0.60555486\n",
            "  0.10081629 0.74512785 0.34520877 0.16949072]\n",
            " [0.77541591 0.71844862 0.26373404 0.86063198 0.         0.26211569\n",
            "  0.76631065 0.56306393 0.78900259 0.693248  ]\n",
            " [0.5855646  0.50440171 0.15535593 0.60555486 0.26211569 0.\n",
            "  0.50866582 0.43229941 0.59284444 0.44196321]\n",
            " [0.59048072 0.47675413 0.60088249 0.10081629 0.76631065 0.50866582\n",
            "  0.         0.6518611  0.35267183 0.09271554]\n",
            " [0.2485768  0.26097018 0.31231477 0.74512785 0.56306393 0.43229941\n",
            "  0.6518611  0.         0.9068113  0.64506993]\n",
            " [0.91068338 0.79486319 0.73747022 0.34520877 0.78900259 0.59284444\n",
            "  0.35267183 0.9068113  0.         0.29409605]\n",
            " [0.61964116 0.50381941 0.55040256 0.16949072 0.693248   0.44196321\n",
            "  0.09271554 0.64506993 0.29409605 0.        ]]\n",
            "[[0.         0.16641648 0.45690799 0.59653761 0.51870333 0.39981614\n",
            "  0.50799105 0.33736765 0.61201725 0.83773024]\n",
            " [0.16641648 0.         0.62330759 0.75919312 0.68510806 0.41524374\n",
            "  0.67218171 0.29003656 0.70374679 0.99154705]\n",
            " [0.45690799 0.62330759 0.         0.19351753 0.06181239 0.63567865\n",
            "  0.11112687 0.6897254  0.56546517 0.45702842]\n",
            " [0.59653761 0.75919312 0.19351753 0.         0.1611577  0.82542715\n",
            "  0.09308234 0.86714535 0.74936013 0.52289072]\n",
            " [0.51870333 0.68510806 0.06181239 0.1611577  0.         0.68585964\n",
            "  0.10418162 0.74674354 0.58827028 0.41869154]\n",
            " [0.39981614 0.41524374 0.63567865 0.82542715 0.68585964 0.\n",
            "  0.73409614 0.16623    0.35667634 0.8091292 ]\n",
            " [0.50799105 0.67218171 0.11112687 0.09308234 0.10418162 0.73409614\n",
            "  0.         0.77406586 0.67636592 0.51519443]\n",
            " [0.33736765 0.29003656 0.6897254  0.86714535 0.74674354 0.16623\n",
            "  0.77406586 0.         0.51860891 0.93638982]\n",
            " [0.61201725 0.70374679 0.56546517 0.74936013 0.58827028 0.35667634\n",
            "  0.67636592 0.51860891 0.         0.52135083]\n",
            " [0.83773024 0.99154705 0.45702842 0.52289072 0.41869154 0.8091292\n",
            "  0.51519443 0.93638982 0.52135083 0.        ]]\n"
          ]
        }
      ],
      "source": [
        "Z = np.random.random((10,2))\n",
        "X,Y = np.atleast_2d(Z[:,0]), np.atleast_2d(Z[:,1])\n",
        "D = np.sqrt( (X-X.T)**2 + (Y-Y.T)**2)\n",
        "print(D)\n",
        "\n",
        "# Much faster with scipy\n",
        "import scipy\n",
        "# Thanks Gavin Heverly-Coulson (#issue 1)\n",
        "import scipy.spatial\n",
        "\n",
        "Z = np.random.random((10,2))\n",
        "D = scipy.spatial.distance.cdist(Z,Z)\n",
        "print(D)"
      ]
    },
    {
      "cell_type": "markdown",
      "metadata": {
        "id": "vmvcmDX8-EIZ"
      },
      "source": [
        "#### 53. How to convert a float (32 bits) array into an integer (32 bits) in place? \n",
        "(**hint**: astype(copy=False))"
      ]
    },
    {
      "cell_type": "code",
      "execution_count": null,
      "metadata": {
        "id": "E1Qs9NPK-EIZ",
        "colab": {
          "base_uri": "https://localhost:8080/"
        },
        "outputId": "13d5d2b8-d403-4f0d-a0db-7ab9d4537b21"
      },
      "outputs": [
        {
          "output_type": "stream",
          "name": "stdout",
          "text": [
            "[0 1 2 3 4 5 6 7 8 9]\n",
            "[0. 1. 2. 3. 4. 5. 6. 7. 8. 9.]\n"
          ]
        }
      ],
      "source": [
        "Z = np.arange(10, dtype=np.int32)\n",
        "print(Z)\n",
        "Z = Z.astype(np.float32, copy=False)\n",
        "print(Z)"
      ]
    },
    {
      "cell_type": "markdown",
      "metadata": {
        "id": "C6e7Ac60-EIZ"
      },
      "source": [
        "#### 54. How to read the following file? (★★☆) \n",
        "(**hint**: np.genfromtxt)"
      ]
    },
    {
      "cell_type": "markdown",
      "metadata": {
        "id": "-kLgKtVy-EIa"
      },
      "source": [
        "```\n",
        "1, 2, 3, 4, 5\n",
        "6,  ,  , 7, 8\n",
        " ,  , 9,10,11\n",
        "```"
      ]
    },
    {
      "cell_type": "code",
      "execution_count": null,
      "metadata": {
        "id": "fZoNLDbi-EIa",
        "colab": {
          "base_uri": "https://localhost:8080/"
        },
        "outputId": "259bb6ea-1605-4493-d189-defbca3ea451"
      },
      "outputs": [
        {
          "output_type": "stream",
          "name": "stdout",
          "text": [
            "[[ 1.  2.  3.  4.  5.]\n",
            " [ 6. nan nan  7.  8.]\n",
            " [nan nan  9. 10. 11.]]\n"
          ]
        }
      ],
      "source": [
        "Z = np.genfromtxt(\"/content/missing.txt\", delimiter=\",\")\n",
        "print(Z)"
      ]
    },
    {
      "cell_type": "markdown",
      "metadata": {
        "id": "LYIv1Ghf-EIa"
      },
      "source": [
        "#### 55. What is the equivalent of enumerate for numpy arrays? (★★☆) \n",
        "(**hint**: np.ndenumerate, np.ndindex)"
      ]
    },
    {
      "cell_type": "code",
      "execution_count": null,
      "metadata": {
        "id": "0gFYMECa-EIb",
        "colab": {
          "base_uri": "https://localhost:8080/"
        },
        "outputId": "19207c6f-92dc-4d1f-bd3d-11f2a442d9ce"
      },
      "outputs": [
        {
          "output_type": "stream",
          "name": "stdout",
          "text": [
            "(0, 0) 0\n",
            "(0, 1) 1\n",
            "(0, 2) 2\n",
            "(1, 0) 3\n",
            "(1, 1) 4\n",
            "(1, 2) 5\n",
            "(2, 0) 6\n",
            "(2, 1) 7\n",
            "(2, 2) 8\n",
            "(0, 0) 0\n",
            "(0, 1) 1\n",
            "(0, 2) 2\n",
            "(1, 0) 3\n",
            "(1, 1) 4\n",
            "(1, 2) 5\n",
            "(2, 0) 6\n",
            "(2, 1) 7\n",
            "(2, 2) 8\n"
          ]
        }
      ],
      "source": [
        "import numpy as np\n",
        "Z = np.arange(9).reshape(3,3)\n",
        "for index, value in np.ndenumerate(Z):\n",
        "    print(index, value)\n",
        "for index in np.ndindex(Z.shape):\n",
        "    print(index, Z[index])"
      ]
    },
    {
      "cell_type": "markdown",
      "metadata": {
        "id": "O5ntaUun-EIb"
      },
      "source": [
        "#### 56. Generate a generic 2D Gaussian-like array (★★☆) \n",
        "(**hint**: np.meshgrid, np.exp)"
      ]
    },
    {
      "cell_type": "code",
      "execution_count": null,
      "metadata": {
        "id": "xqViP04e-EIb",
        "colab": {
          "base_uri": "https://localhost:8080/"
        },
        "outputId": "556a1fce-97a4-4ed8-d428-349353e86cc7"
      },
      "outputs": [
        {
          "output_type": "stream",
          "name": "stdout",
          "text": [
            "[[0.36787944 0.44822088 0.51979489 0.57375342 0.60279818 0.60279818\n",
            "  0.57375342 0.51979489 0.44822088 0.36787944]\n",
            " [0.44822088 0.54610814 0.63331324 0.69905581 0.73444367 0.73444367\n",
            "  0.69905581 0.63331324 0.54610814 0.44822088]\n",
            " [0.51979489 0.63331324 0.73444367 0.81068432 0.85172308 0.85172308\n",
            "  0.81068432 0.73444367 0.63331324 0.51979489]\n",
            " [0.57375342 0.69905581 0.81068432 0.89483932 0.9401382  0.9401382\n",
            "  0.89483932 0.81068432 0.69905581 0.57375342]\n",
            " [0.60279818 0.73444367 0.85172308 0.9401382  0.98773022 0.98773022\n",
            "  0.9401382  0.85172308 0.73444367 0.60279818]\n",
            " [0.60279818 0.73444367 0.85172308 0.9401382  0.98773022 0.98773022\n",
            "  0.9401382  0.85172308 0.73444367 0.60279818]\n",
            " [0.57375342 0.69905581 0.81068432 0.89483932 0.9401382  0.9401382\n",
            "  0.89483932 0.81068432 0.69905581 0.57375342]\n",
            " [0.51979489 0.63331324 0.73444367 0.81068432 0.85172308 0.85172308\n",
            "  0.81068432 0.73444367 0.63331324 0.51979489]\n",
            " [0.44822088 0.54610814 0.63331324 0.69905581 0.73444367 0.73444367\n",
            "  0.69905581 0.63331324 0.54610814 0.44822088]\n",
            " [0.36787944 0.44822088 0.51979489 0.57375342 0.60279818 0.60279818\n",
            "  0.57375342 0.51979489 0.44822088 0.36787944]]\n"
          ]
        }
      ],
      "source": [
        "X, Y = np.meshgrid(np.linspace(-1,1,10), np.linspace(-1,1,10))\n",
        "D = np.sqrt(X*X+Y*Y)\n",
        "sigma, mu = 1.0, 0.0\n",
        "G = np.exp(-( (D-mu)**2 / ( 2.0 * sigma**2 ) ) )\n",
        "print(G)"
      ]
    },
    {
      "cell_type": "markdown",
      "metadata": {
        "id": "P2iKNk_l-EIb"
      },
      "source": [
        "#### 57. How to randomly place p elements in a 2D array? (★★☆) \n",
        "(**hint**: np.put, np.random.choice)"
      ]
    },
    {
      "cell_type": "code",
      "execution_count": null,
      "metadata": {
        "id": "q3kM6h97-EIb",
        "colab": {
          "base_uri": "https://localhost:8080/"
        },
        "outputId": "fa9b2fd8-140b-484e-b9c9-94e0b382577f"
      },
      "outputs": [
        {
          "output_type": "stream",
          "name": "stdout",
          "text": [
            "[[0. 0. 0. 0. 0. 0. 0. 0. 0. 0.]\n",
            " [1. 0. 0. 0. 0. 0. 0. 0. 0. 0.]\n",
            " [0. 0. 0. 0. 0. 0. 0. 0. 0. 0.]\n",
            " [0. 0. 0. 0. 0. 0. 0. 0. 0. 0.]\n",
            " [0. 0. 0. 0. 0. 0. 0. 0. 0. 1.]\n",
            " [0. 0. 0. 0. 0. 0. 0. 0. 0. 0.]\n",
            " [0. 0. 0. 0. 0. 0. 0. 0. 0. 0.]\n",
            " [0. 0. 1. 0. 0. 0. 0. 0. 0. 0.]\n",
            " [0. 0. 0. 0. 0. 0. 0. 0. 0. 0.]\n",
            " [0. 0. 0. 0. 0. 0. 0. 0. 0. 0.]]\n"
          ]
        }
      ],
      "source": [
        "n = 10\n",
        "p = 3\n",
        "Z = np.zeros((n,n))\n",
        "np.put(Z, np.random.choice(range(n*n), p, replace=False),1)\n",
        "print (Z)"
      ]
    },
    {
      "cell_type": "markdown",
      "metadata": {
        "id": "TV5hW_3E-EIc"
      },
      "source": [
        "#### 58. Subtract the mean of each row of a matrix (★★☆) \n",
        "(**hint**: mean(axis=,keepdims=))"
      ]
    },
    {
      "cell_type": "code",
      "execution_count": null,
      "metadata": {
        "id": "9jjUqNlf-EIc",
        "colab": {
          "base_uri": "https://localhost:8080/"
        },
        "outputId": "5abf1ff2-35ab-4040-d634-932941bb1a28"
      },
      "outputs": [
        {
          "output_type": "execute_result",
          "data": {
            "text/plain": [
              "array([[-0.09239176, -0.12968457, -0.13060079,  0.11062023, -0.41337779,\n",
              "        -0.30724405,  0.52596408,  0.34682568, -0.23281983,  0.3227088 ],\n",
              "       [-0.03717446, -0.23406604, -0.31963477, -0.33796849,  0.43273296,\n",
              "         0.48021323, -0.02169905,  0.51504152, -0.21555719, -0.26188771],\n",
              "       [-0.30599168, -0.32390055, -0.0661573 , -0.34267425, -0.39408566,\n",
              "         0.25466048,  0.53913506,  0.34614611,  0.58182252, -0.28895474],\n",
              "       [-0.4649703 ,  0.45796646, -0.3432542 ,  0.26277145,  0.35548246,\n",
              "         0.42374464, -0.47417531, -0.46419961,  0.03082185,  0.21581256],\n",
              "       [ 0.40430667,  0.14738622, -0.17900494,  0.41913843, -0.16325297,\n",
              "         0.20431715, -0.40097354, -0.30923834,  0.34531686, -0.46799556]])"
            ]
          },
          "metadata": {},
          "execution_count": 13
        }
      ],
      "source": [
        "X = np.random.rand(5, 10)\n",
        "\n",
        "Y = X - X.mean(axis=1, keepdims=True)\n",
        "\n",
        "Y"
      ]
    },
    {
      "cell_type": "markdown",
      "metadata": {
        "id": "GCNlxy5L-EIf"
      },
      "source": [
        "#### 59. How to sort an array by the nth column? (★★☆) \n",
        "(**hint**: argsort)"
      ]
    },
    {
      "cell_type": "code",
      "execution_count": null,
      "metadata": {
        "id": "G_QUTPUL-EIf",
        "colab": {
          "base_uri": "https://localhost:8080/"
        },
        "outputId": "1bc16bac-f12e-40ed-86e3-dd0ad8e408c3"
      },
      "outputs": [
        {
          "output_type": "stream",
          "name": "stdout",
          "text": [
            "[[4 5 0]\n",
            " [3 7 1]\n",
            " [5 8 7]]\n",
            "[[4 5 0]\n",
            " [3 7 1]\n",
            " [5 8 7]]\n"
          ]
        }
      ],
      "source": [
        "Z = np.random.randint(0,10,(3,3))\n",
        "print(Z)\n",
        "print(Z[Z[:,1].argsort()])"
      ]
    },
    {
      "cell_type": "markdown",
      "metadata": {
        "id": "EeL1bWKM-EIf"
      },
      "source": [
        "#### 60. How to tell if a given 2D array has null columns? (★★☆) \n",
        "(**hint**: any, ~)"
      ]
    },
    {
      "cell_type": "code",
      "execution_count": null,
      "metadata": {
        "id": "V9ZqFRet-EIf",
        "colab": {
          "base_uri": "https://localhost:8080/"
        },
        "outputId": "03b55459-edf9-4d97-ac81-6cc4b09622e2"
      },
      "outputs": [
        {
          "output_type": "stream",
          "name": "stdout",
          "text": [
            "False\n"
          ]
        }
      ],
      "source": [
        "Z = np.random.randint(0,3,(3,10))\n",
        "print((~Z.any(axis=0)).any())"
      ]
    },
    {
      "cell_type": "markdown",
      "metadata": {
        "id": "34B9Oijp-EIf"
      },
      "source": [
        "#### 61. Find the nearest value from a given value in an array (★★☆) \n",
        "(**hint**: np.abs, argmin, flat)"
      ]
    },
    {
      "cell_type": "code",
      "execution_count": null,
      "metadata": {
        "id": "Ts69QzPl-EIg",
        "colab": {
          "base_uri": "https://localhost:8080/"
        },
        "outputId": "d4ea0827-b66c-45d6-d376-338058d5bbcc"
      },
      "outputs": [
        {
          "output_type": "stream",
          "name": "stdout",
          "text": [
            "0.5612771386870026\n"
          ]
        }
      ],
      "source": [
        "Z = np.random.uniform(0,1,10)\n",
        "z = 0.5\n",
        "m = Z.flat[np.abs(Z - z).argmin()]\n",
        "print(m)"
      ]
    },
    {
      "cell_type": "markdown",
      "metadata": {
        "id": "F_TUQn6s-EIg"
      },
      "source": [
        "#### 62. Considering two arrays with shape (1,3) and (3,1), how to compute their sum using an iterator? (★★☆) \n",
        "(**hint**: np.nditer)"
      ]
    },
    {
      "cell_type": "code",
      "execution_count": null,
      "metadata": {
        "id": "2S1HwbKX-EIg",
        "colab": {
          "base_uri": "https://localhost:8080/"
        },
        "outputId": "5aa37a04-a071-4430-e30b-137b534ab11d"
      },
      "outputs": [
        {
          "output_type": "stream",
          "name": "stdout",
          "text": [
            "[[0 1 2]\n",
            " [1 2 3]\n",
            " [2 3 4]]\n"
          ]
        }
      ],
      "source": [
        "A = np.arange(3).reshape(3,1)\n",
        "B = np.arange(3).reshape(1,3)\n",
        "it = np.nditer([A,B,None])\n",
        "for x,y,z in it: z[...] = x + y\n",
        "print(it.operands[2])"
      ]
    },
    {
      "cell_type": "markdown",
      "metadata": {
        "id": "ppeUFVNy-EIg"
      },
      "source": [
        "#### 63. Create an array class that has a name attribute (★★☆) \n",
        "(**hint**: class method)"
      ]
    },
    {
      "cell_type": "code",
      "execution_count": null,
      "metadata": {
        "id": "ayIOm3Of-EIg",
        "colab": {
          "base_uri": "https://localhost:8080/"
        },
        "outputId": "c394b6a0-3208-4925-bf7e-ec7006ce95cc"
      },
      "outputs": [
        {
          "output_type": "stream",
          "name": "stdout",
          "text": [
            "range_10\n"
          ]
        }
      ],
      "source": [
        "class NamedArray(np.ndarray):\n",
        "    def __new__(cls, array, name=\"no name\"):\n",
        "        obj = np.asarray(array).view(cls)\n",
        "        obj.name = name\n",
        "        return obj\n",
        "    def __array_finalize__(self, obj):\n",
        "        if obj is None: return\n",
        "        self.name = getattr(obj, 'name', \"no name\")\n",
        "\n",
        "Z = NamedArray(np.arange(10), \"range_10\")\n",
        "print (Z.name)"
      ]
    },
    {
      "cell_type": "markdown",
      "metadata": {
        "id": "L2ln2j_z-EIh"
      },
      "source": [
        "#### 64. Consider a given vector, how to add 1 to each element indexed by a second vector (be careful with repeated indices)? (★★★) \n",
        "(**hint**: np.bincount | np.add.at)"
      ]
    },
    {
      "cell_type": "code",
      "execution_count": null,
      "metadata": {
        "id": "UmNH0fSt-EIh",
        "colab": {
          "base_uri": "https://localhost:8080/"
        },
        "outputId": "10c8747d-f58d-4273-def9-132edbf353c1"
      },
      "outputs": [
        {
          "output_type": "stream",
          "name": "stdout",
          "text": [
            "[2. 4. 6. 2. 3. 4. 1. 2. 4. 2.]\n",
            "[ 3.  7. 11.  3.  5.  7.  1.  3.  7.  3.]\n"
          ]
        }
      ],
      "source": [
        "Z = np.ones(10)\n",
        "I = np.random.randint(0,len(Z),20)\n",
        "Z += np.bincount(I, minlength=len(Z))\n",
        "print(Z)\n",
        "\n",
        "np.add.at(Z, I, 1)\n",
        "print(Z)"
      ]
    },
    {
      "cell_type": "markdown",
      "metadata": {
        "id": "-2vYQQgZ-EIi"
      },
      "source": [
        "#### 65. How to accumulate elements of a vector (X) to an array (F) based on an index list (I)? (★★★) \n",
        "(**hint**: np.bincount)"
      ]
    },
    {
      "cell_type": "code",
      "execution_count": null,
      "metadata": {
        "id": "u15oXEjE-EIi",
        "colab": {
          "base_uri": "https://localhost:8080/"
        },
        "outputId": "fc3c1954-f4c0-43b0-b50d-bb380817361d"
      },
      "outputs": [
        {
          "output_type": "stream",
          "name": "stdout",
          "text": [
            "[0. 7. 0. 6. 5. 0. 0. 0. 0. 3.]\n"
          ]
        }
      ],
      "source": [
        "X = [1,2,3,4,5,6]\n",
        "I = [1,3,9,3,4,1]\n",
        "F = np.bincount(I,X)\n",
        "print(F)"
      ]
    },
    {
      "cell_type": "markdown",
      "metadata": {
        "id": "BeJVB6Ma-EIi"
      },
      "source": [
        "#### 66. Considering a (w,h,3) image of (dtype=ubyte), compute the number of unique colors (★★★) \n",
        "(**hint**: np.unique)"
      ]
    },
    {
      "cell_type": "code",
      "execution_count": null,
      "metadata": {
        "id": "Ee8xhzgH-EIj",
        "colab": {
          "base_uri": "https://localhost:8080/"
        },
        "outputId": "4aaf34e0-c37f-4b92-eaf1-0f4da2a5d18d"
      },
      "outputs": [
        {
          "output_type": "stream",
          "name": "stdout",
          "text": [
            "64\n",
            "64\n"
          ]
        }
      ],
      "source": [
        "w, h = 256, 256\n",
        "I = np.random.randint(0, 4, (h, w, 3)).astype(np.ubyte)\n",
        "colors = np.unique(I.reshape(-1, 3), axis=0)\n",
        "n = len(colors)\n",
        "print(n)\n",
        "w, h = 256, 256\n",
        "I = np.random.randint(0,4,(h,w,3), dtype=np.uint8)\n",
        "\n",
        "# View each pixel as a single 24-bit integer, rather than three 8-bit bytes\n",
        "I24 = np.dot(I.astype(np.uint32),[1,256,65536])\n",
        "\n",
        "# Count unique colours\n",
        "n = len(np.unique(I24))\n",
        "print(n)\n"
      ]
    },
    {
      "cell_type": "markdown",
      "metadata": {
        "id": "gX988eyr-EIj"
      },
      "source": [
        "#### 67. Considering a four dimensions array, how to get sum over the last two axis at once? (★★★) \n",
        "(**hint**: sum(axis=(-2,-1)))"
      ]
    },
    {
      "cell_type": "code",
      "execution_count": null,
      "metadata": {
        "id": "SuJPDjK3-EIj",
        "colab": {
          "base_uri": "https://localhost:8080/"
        },
        "outputId": "451af7be-317b-4362-a9b4-8e70148de2e3"
      },
      "outputs": [
        {
          "output_type": "stream",
          "name": "stdout",
          "text": [
            "[[59 51 65 46]\n",
            " [45 65 59 64]\n",
            " [55 61 62 68]]\n",
            "[[59 51 65 46]\n",
            " [45 65 59 64]\n",
            " [55 61 62 68]]\n"
          ]
        }
      ],
      "source": [
        "A = np.random.randint(0,10,(3,4,3,4))\n",
        "# solution by passing a tuple of axes (introduced in numpy 1.7.0)\n",
        "sum = A.sum(axis=(-2,-1))\n",
        "print(sum)\n",
        "# solution by flattening the last two dimensions into one\n",
        "# (useful for functions that don't accept tuples for axis argument)\n",
        "sum = A.reshape(A.shape[:-2] + (-1,)).sum(axis=-1)\n",
        "print(sum)"
      ]
    },
    {
      "cell_type": "markdown",
      "metadata": {
        "id": "sp6vTDtQ-EIj"
      },
      "source": [
        "#### 68. Considering a one-dimensional vector D, how to compute means of subsets of D using a vector S of same size describing subset  indices? (★★★) \n",
        "(**hint**: np.bincount)"
      ]
    },
    {
      "cell_type": "code",
      "execution_count": null,
      "metadata": {
        "id": "l6xbS_YW-EIk",
        "colab": {
          "base_uri": "https://localhost:8080/"
        },
        "outputId": "f50e1ce0-b735-411a-d7fe-d79855c302ac"
      },
      "outputs": [
        {
          "output_type": "stream",
          "name": "stdout",
          "text": [
            "[0.27493926 0.61958098 0.56319934 0.56944037 0.52305834 0.37116316\n",
            " 0.37500226 0.50439728 0.51849673 0.44309504]\n",
            "0    0.274939\n",
            "1    0.619581\n",
            "2    0.563199\n",
            "3    0.569440\n",
            "4    0.523058\n",
            "5    0.371163\n",
            "6    0.375002\n",
            "7    0.504397\n",
            "8    0.518497\n",
            "9    0.443095\n",
            "dtype: float64\n"
          ]
        }
      ],
      "source": [
        "D = np.random.uniform(0,1,100)\n",
        "S = np.random.randint(0,10,100)\n",
        "D_sums = np.bincount(S, weights=D)\n",
        "D_counts = np.bincount(S)\n",
        "D_means = D_sums / D_counts\n",
        "print(D_means)\n",
        "\n",
        "# Pandas solution as a reference due to more intuitive code\n",
        "import pandas as pd\n",
        "print(pd.Series(D).groupby(S).mean())"
      ]
    },
    {
      "cell_type": "markdown",
      "metadata": {
        "id": "s2clrBQj-EIk"
      },
      "source": [
        "#### 69. How to get the diagonal of a dot product? (★★★) \n",
        "(**hint**: np.diag)"
      ]
    },
    {
      "cell_type": "code",
      "execution_count": null,
      "metadata": {
        "id": "8d4N7-TA-EIk",
        "colab": {
          "base_uri": "https://localhost:8080/"
        },
        "outputId": "89e670d7-a9e5-453a-df20-3def9c5068ed"
      },
      "outputs": [
        {
          "output_type": "execute_result",
          "data": {
            "text/plain": [
              "array([1.13355975, 1.83284786, 1.38671295, 1.45571334, 1.05051943])"
            ]
          },
          "metadata": {},
          "execution_count": 14
        }
      ],
      "source": [
        "A = np.random.uniform(0,1,(5,5))\n",
        "B = np.random.uniform(0,1,(5,5))\n",
        "\n",
        "\n",
        "np.diag(np.dot(A, B))\n"
      ]
    },
    {
      "cell_type": "markdown",
      "metadata": {
        "id": "Dq9nN-Pd-EIk"
      },
      "source": [
        "#### 70. Consider the vector \\[1, 2, 3, 4, 5\\], how to build a new vector with 3 consecutive zeros interleaved between each value? (★★★) \n",
        "(**hint**: array\\[::4\\])"
      ]
    },
    {
      "cell_type": "code",
      "execution_count": null,
      "metadata": {
        "id": "My3yINDE-EIl",
        "colab": {
          "base_uri": "https://localhost:8080/"
        },
        "outputId": "1272b11c-92af-44f2-bdae-b86a901ed2cf"
      },
      "outputs": [
        {
          "output_type": "stream",
          "name": "stdout",
          "text": [
            "[1. 0. 0. 0. 2. 0. 0. 0. 3. 0. 0. 0. 4. 0. 0. 0. 5.]\n"
          ]
        }
      ],
      "source": [
        "Z = np.array([1,2,3,4,5])\n",
        "nz = 3\n",
        "Z0 = np.zeros(len(Z) + (len(Z)-1)*(nz))\n",
        "Z0[::nz+1] = Z\n",
        "print(Z0)"
      ]
    },
    {
      "cell_type": "markdown",
      "metadata": {
        "id": "eNGvyu8G-EIm"
      },
      "source": [
        "#### 71. Consider an array of dimension (5,5,3), how to mulitply it by an array with dimensions (5,5)? (★★★) \n",
        "(**hint**: array\\[:, :, None\\])"
      ]
    },
    {
      "cell_type": "code",
      "execution_count": null,
      "metadata": {
        "collapsed": true,
        "id": "PVxMEdwt-EIn",
        "colab": {
          "base_uri": "https://localhost:8080/"
        },
        "outputId": "7329f38d-3c76-4e00-a5e8-bc60af0e9ec7"
      },
      "outputs": [
        {
          "output_type": "stream",
          "name": "stdout",
          "text": [
            "[[[2. 2. 2.]\n",
            "  [2. 2. 2.]\n",
            "  [2. 2. 2.]\n",
            "  [2. 2. 2.]\n",
            "  [2. 2. 2.]]\n",
            "\n",
            " [[2. 2. 2.]\n",
            "  [2. 2. 2.]\n",
            "  [2. 2. 2.]\n",
            "  [2. 2. 2.]\n",
            "  [2. 2. 2.]]\n",
            "\n",
            " [[2. 2. 2.]\n",
            "  [2. 2. 2.]\n",
            "  [2. 2. 2.]\n",
            "  [2. 2. 2.]\n",
            "  [2. 2. 2.]]\n",
            "\n",
            " [[2. 2. 2.]\n",
            "  [2. 2. 2.]\n",
            "  [2. 2. 2.]\n",
            "  [2. 2. 2.]\n",
            "  [2. 2. 2.]]\n",
            "\n",
            " [[2. 2. 2.]\n",
            "  [2. 2. 2.]\n",
            "  [2. 2. 2.]\n",
            "  [2. 2. 2.]\n",
            "  [2. 2. 2.]]]\n"
          ]
        }
      ],
      "source": [
        "A = np.ones((5,5,3))\n",
        "B = 2*np.ones((5,5))\n",
        "print(A * B[:,:,None])"
      ]
    },
    {
      "cell_type": "markdown",
      "metadata": {
        "id": "CwYj_2Yc-EIn"
      },
      "source": [
        "#### 72. How to swap two rows of an array? (★★★) \n",
        "(**hint**: array\\[\\[\\]\\] = array\\[\\[\\]\\])"
      ]
    },
    {
      "cell_type": "code",
      "execution_count": null,
      "metadata": {
        "id": "ohChIAf2-EIn",
        "colab": {
          "base_uri": "https://localhost:8080/"
        },
        "outputId": "bb552f5a-7ba1-4af6-d1f4-a431aeb20b88"
      },
      "outputs": [
        {
          "output_type": "stream",
          "name": "stdout",
          "text": [
            "[[ 5  6  7  8  9]\n",
            " [ 0  1  2  3  4]\n",
            " [10 11 12 13 14]\n",
            " [15 16 17 18 19]\n",
            " [20 21 22 23 24]]\n"
          ]
        }
      ],
      "source": [
        "A = np.arange(25).reshape(5,5)\n",
        "\n",
        "A[[0,1]] = A[[1,0]]\n",
        "print(A)"
      ]
    },
    {
      "cell_type": "markdown",
      "metadata": {
        "id": "UFfCVxrs-EIo"
      },
      "source": [
        "#### 73. Consider a set of 10 triplets describing 10 triangles (with shared vertices), find the set of unique line segments composing all the  triangles (★★★) \n",
        "(**hint**: repeat, np.roll, np.sort, view, np.unique)"
      ]
    },
    {
      "cell_type": "code",
      "execution_count": null,
      "metadata": {
        "id": "lvkPnxJd-EIo",
        "colab": {
          "base_uri": "https://localhost:8080/"
        },
        "outputId": "43b52644-3b1c-4e01-ea33-dbea2218d91d"
      },
      "outputs": [
        {
          "output_type": "stream",
          "name": "stdout",
          "text": [
            "[( 1, 80) ( 1, 89) ( 5, 32) ( 5, 59) ( 7, 71) ( 7, 82) ( 9, 38) ( 9, 45)\n",
            " (17, 37) (17, 45) (18, 50) (18, 54) (25, 54) (25, 90) (27, 60) (27, 96)\n",
            " (32, 59) (37, 45) (38, 45) (39, 61) (39, 71) (50, 54) (53, 55) (53, 61)\n",
            " (54, 90) (55, 61) (60, 96) (61, 71) (71, 82) (80, 89)]\n"
          ]
        }
      ],
      "source": [
        "faces = np.random.randint(0,100,(10,3))\n",
        "F = np.roll(faces.repeat(2,axis=1),-1,axis=1)\n",
        "F = F.reshape(len(F)*3,2)\n",
        "F = np.sort(F,axis=1)\n",
        "G = F.view( dtype=[('p0',F.dtype),('p1',F.dtype)] )\n",
        "G = np.unique(G)\n",
        "print(G)"
      ]
    },
    {
      "cell_type": "markdown",
      "metadata": {
        "id": "6TNPWF61-EIo"
      },
      "source": [
        "#### 74. Given an array C that is a bincount, how to produce an array A such that np.bincount(A) == C? (★★★) \n",
        "(**hint**: np.repeat)"
      ]
    },
    {
      "cell_type": "code",
      "execution_count": null,
      "metadata": {
        "id": "x4nG_2oX-EIp",
        "colab": {
          "base_uri": "https://localhost:8080/"
        },
        "outputId": "5f0788ef-2437-4718-988e-0af9ba3030b2"
      },
      "outputs": [
        {
          "output_type": "stream",
          "name": "stdout",
          "text": [
            "[1 1 2 3 4 4 6]\n"
          ]
        }
      ],
      "source": [
        "C = np.bincount([1,1,2,3,4,4,6])\n",
        "A = np.repeat(np.arange(len(C)), C)\n",
        "print(A)"
      ]
    },
    {
      "cell_type": "markdown",
      "metadata": {
        "id": "F1P27b6--EIp"
      },
      "source": [
        "#### 75. How to compute averages using a sliding window over an array? (★★★) \n",
        "(**hint**: np.cumsum)"
      ]
    },
    {
      "cell_type": "code",
      "execution_count": null,
      "metadata": {
        "id": "mID98kL9-EIp",
        "colab": {
          "base_uri": "https://localhost:8080/"
        },
        "outputId": "fef9acdd-93fc-4518-e63e-d44b71d6692b"
      },
      "outputs": [
        {
          "output_type": "stream",
          "name": "stdout",
          "text": [
            "[ 1.  2.  3.  4.  5.  6.  7.  8.  9. 10. 11. 12. 13. 14. 15. 16. 17. 18.]\n",
            "[ 1.  2.  3.  4.  5.  6.  7.  8.  9. 10. 11. 12. 13. 14. 15. 16. 17. 18.]\n"
          ]
        }
      ],
      "source": [
        "def moving_average(a, n=3) :\n",
        "    ret = np.cumsum(a, dtype=float)\n",
        "    ret[n:] = ret[n:] - ret[:-n]\n",
        "    return ret[n - 1:] / n\n",
        "Z = np.arange(20)\n",
        "print(moving_average(Z, n=3))\n",
        "\n",
        "\n",
        "\n",
        "from numpy.lib.stride_tricks import sliding_window_view\n",
        "\n",
        "Z = np.arange(20)\n",
        "print(sliding_window_view(Z, window_shape=3).mean(axis=-1))"
      ]
    },
    {
      "cell_type": "markdown",
      "metadata": {
        "id": "L4XcItmy-EIq"
      },
      "source": [
        "#### 76. Consider a one-dimensional array Z, build a two-dimensional array whose first row is (Z\\[0\\],Z\\[1\\],Z\\[2\\]) and each subsequent row is  shifted by 1 (last row should be (Z\\[-3\\],Z\\[-2\\],Z\\[-1\\]) (★★★) \n",
        "(**hint**: from numpy.lib import stride_tricks)"
      ]
    },
    {
      "cell_type": "code",
      "execution_count": null,
      "metadata": {
        "id": "ug2CFY54-EIq",
        "colab": {
          "base_uri": "https://localhost:8080/"
        },
        "outputId": "ad9afc1e-080d-430f-c7f5-812bd0cda29f"
      },
      "outputs": [
        {
          "output_type": "stream",
          "name": "stdout",
          "text": [
            "[[0 1 2]\n",
            " [1 2 3]\n",
            " [2 3 4]\n",
            " [3 4 5]\n",
            " [4 5 6]\n",
            " [5 6 7]\n",
            " [6 7 8]\n",
            " [7 8 9]]\n",
            "[[0 1 2]\n",
            " [1 2 3]\n",
            " [2 3 4]\n",
            " [3 4 5]\n",
            " [4 5 6]\n",
            " [5 6 7]\n",
            " [6 7 8]\n",
            " [7 8 9]]\n"
          ]
        }
      ],
      "source": [
        "from numpy.lib import stride_tricks\n",
        "\n",
        "def rolling(a, window):\n",
        "    shape = (a.size - window + 1, window)\n",
        "    strides = (a.strides[0], a.strides[0])\n",
        "    return stride_tricks.as_strided(a, shape=shape, strides=strides)\n",
        "Z = rolling(np.arange(10), 3)\n",
        "print(Z)\n",
        "\n",
        "\n",
        "\n",
        "Z = np.arange(10)\n",
        "print(sliding_window_view(Z, window_shape=3))"
      ]
    },
    {
      "cell_type": "markdown",
      "metadata": {
        "id": "PHmMI0WE-EIq"
      },
      "source": [
        "#### 77. How to negate a boolean, or to change the sign of a float inplace? (★★★) \n",
        "(**hint**: np.logical_not, np.negative)"
      ]
    },
    {
      "cell_type": "code",
      "execution_count": null,
      "metadata": {
        "id": "Do5nNUOT-EIq",
        "colab": {
          "base_uri": "https://localhost:8080/"
        },
        "outputId": "594c0e19-b044-421e-a518-24f9feae2d42"
      },
      "outputs": [
        {
          "output_type": "execute_result",
          "data": {
            "text/plain": [
              "array([ 0.60734288,  0.1285986 , -0.94785026,  0.11684501,  0.7707404 ,\n",
              "        0.96191254, -0.64660108, -0.87313515,  0.05043641,  0.60790862,\n",
              "        0.49357315, -0.81736413,  0.16287264,  0.36048142, -0.0676103 ,\n",
              "        0.1899334 , -0.31936183, -0.38940276, -0.14781135,  0.71553421,\n",
              "       -0.88653492,  0.28891283,  0.79479938, -0.87175783,  0.34494674,\n",
              "        0.00697964, -0.7631436 , -0.29519828,  0.58955656, -0.68282569,\n",
              "       -0.29006098,  0.69516801,  0.60000237,  0.6332354 , -0.19280953,\n",
              "       -0.5890554 ,  0.87201468, -0.14798935, -0.64466477, -0.8172918 ,\n",
              "        0.48373779, -0.72467143,  0.94917906, -0.00367794, -0.73619649,\n",
              "       -0.93784596,  0.82710678, -0.22603567,  0.76894741, -0.30274552,\n",
              "       -0.33136336, -0.5963977 ,  0.21543868,  0.8987244 , -0.82736873,\n",
              "       -0.9835978 ,  0.11941808, -0.11598435, -0.36387121, -0.05993077,\n",
              "       -0.06229639,  0.22556226,  0.84199753,  0.11988231, -0.04065603,\n",
              "       -0.70391251,  0.05509847, -0.87719057,  0.67706943,  0.842974  ,\n",
              "        0.14607237, -0.4625288 ,  0.38007614, -0.8440854 ,  0.31450883,\n",
              "        0.72259422,  0.87553799,  0.80628215,  0.02864335, -0.91105665,\n",
              "       -0.29839792, -0.67951927, -0.27834123,  0.98169069,  0.13155677,\n",
              "        0.21872895,  0.59685693,  0.41602203,  0.60368961, -0.88170345,\n",
              "       -0.18296122, -0.06957134,  0.66742619, -0.81483705, -0.56998247,\n",
              "        0.23580899, -0.27030355, -0.6478496 ,  0.31995686, -0.50831283])"
            ]
          },
          "metadata": {},
          "execution_count": 24
        }
      ],
      "source": [
        "Z = np.random.randint(0,2,100)\n",
        "np.logical_not(Z, out=Z)\n",
        "\n",
        "Z = np.random.uniform(-1.0,1.0,100)\n",
        "np.negative(Z, out=Z)"
      ]
    },
    {
      "cell_type": "markdown",
      "metadata": {
        "id": "X0SjeLdp-EIq"
      },
      "source": [
        "#### 78. Consider 2 sets of points P0,P1 describing lines (2d) and a point p, how to compute distance from p to each line i  (P0\\[i\\],P1\\[i\\])? (★★★)"
      ]
    },
    {
      "cell_type": "code",
      "execution_count": null,
      "metadata": {
        "id": "fKpudmAu-EIr",
        "colab": {
          "base_uri": "https://localhost:8080/"
        },
        "outputId": "bd0dfc8c-d8e1-4b5d-baa9-c5d733fce74c"
      },
      "outputs": [
        {
          "output_type": "stream",
          "name": "stdout",
          "text": [
            "[ 7.18735894 10.83667048  7.79713681  5.28114199  1.68360384  0.61960161\n",
            "  1.78433274  5.8521502   9.87977689  2.03901736]\n"
          ]
        }
      ],
      "source": [
        "def distance(P0, P1, p):\n",
        "    T = P1 - P0\n",
        "    L = (T**2).sum(axis=1)\n",
        "    U = -((P0[:,0]-p[...,0])*T[:,0] + (P0[:,1]-p[...,1])*T[:,1]) / L\n",
        "    U = U.reshape(len(U),1)\n",
        "    D = P0 + U*T - p\n",
        "    return np.sqrt((D**2).sum(axis=1))\n",
        "\n",
        "P0 = np.random.uniform(-10,10,(10,2))\n",
        "P1 = np.random.uniform(-10,10,(10,2))\n",
        "p  = np.random.uniform(-10,10,( 1,2))\n",
        "print(distance(P0, P1, p))"
      ]
    },
    {
      "cell_type": "markdown",
      "metadata": {
        "id": "bJQAh_S0-EIr"
      },
      "source": [
        "#### 79. Consider 2 sets of points P0,P1 describing lines (2d) and a set of points P, how to compute distance from each point j (P\\[j\\]) to each line i (P0\\[i\\],P1\\[i\\])? (★★★)"
      ]
    },
    {
      "cell_type": "code",
      "execution_count": null,
      "metadata": {
        "id": "4b5Ak1iz-EIr",
        "colab": {
          "base_uri": "https://localhost:8080/"
        },
        "outputId": "581b94aa-3a3d-459e-c5d3-8fb84be4ec31"
      },
      "outputs": [
        {
          "output_type": "stream",
          "name": "stdout",
          "text": [
            "[[ 6.78220961  9.45842025  5.61680103  1.49477623  9.68934461  7.80575898\n",
            "   3.05226217  3.29123122  5.68466506  1.48984902]\n",
            " [ 4.71691433  6.66109121  6.31261478  0.32124969  6.9064639   5.66220052\n",
            "   5.38593495  1.72807029  4.74628718  0.88113545]\n",
            " [ 1.18998487  0.84429713  7.73408626  4.86843438  0.54266439  0.44150306\n",
            "  11.42951946  2.89314951  1.76171711  0.3013508 ]\n",
            " [ 0.78348819  4.62989742 12.57628157 10.17472579  4.46190564  0.25633355\n",
            "  16.49477295  1.26792496  4.57990191  5.07200259]\n",
            " [ 3.55207627  0.63372115  4.61437324  2.49157336  0.212707    2.70694309\n",
            "   9.75412239  5.71705362  1.3824457   2.84823742]\n",
            " [ 3.75999819  1.82988935  5.73458268  3.8689448   1.43500724  2.97267339\n",
            "  11.15425847  5.5965353   0.92148285  1.75550178]\n",
            " [ 7.64985551  0.28715437  0.77621378  1.60734775  0.34039848  6.6380738\n",
            "   6.87150629 10.61029511  6.8255872   8.29103557]\n",
            " [ 1.77440575  4.70972249  4.9682544   0.25176473  5.03703714  2.71923764\n",
            "   6.11923886  1.11709345  2.17397427  2.30798805]\n",
            " [ 6.08819217 10.36763937  3.72718929  3.29990322 10.65919933  7.18639966\n",
            "   1.48042815  2.20405717  4.24624311  3.37090791]\n",
            " [ 1.53184051  1.67619266  4.42334936  1.27209348  2.07021218  0.63342986\n",
            "   8.01460617  4.05843881  0.2055847   2.96278216]]\n"
          ]
        }
      ],
      "source": [
        "# based on distance function from previous question\n",
        "P0 = np.random.uniform(-10, 10, (10,2))\n",
        "P1 = np.random.uniform(-10,10,(10,2))\n",
        "p = np.random.uniform(-10, 10, (10,2))\n",
        "print(np.array([distance(P0,P1,p_i) for p_i in p]))"
      ]
    },
    {
      "cell_type": "markdown",
      "metadata": {
        "id": "CKQNW1F_-EIr"
      },
      "source": [
        "#### 80. Consider an arbitrary array, write a function that extract a subpart with a fixed shape and centered on a given element (pad with a `fill` value when necessary) (★★★) \n",
        "(**hint**: minimum, maximum)"
      ]
    },
    {
      "cell_type": "code",
      "execution_count": null,
      "metadata": {
        "id": "8dh3to1g-EIs",
        "colab": {
          "base_uri": "https://localhost:8080/"
        },
        "outputId": "0f9bfeaf-842e-4b34-ba41-2ba65e8b5da6"
      },
      "outputs": [
        {
          "output_type": "stream",
          "name": "stdout",
          "text": [
            "[[7 2 7 2 6 5 3 5 5 7]\n",
            " [1 2 3 9 8 2 9 8 8 4]\n",
            " [0 7 4 5 5 6 9 3 1 6]\n",
            " [8 3 0 9 6 1 2 6 3 5]\n",
            " [8 5 1 8 5 2 0 7 6 4]\n",
            " [1 2 2 5 9 7 8 9 6 5]\n",
            " [4 1 5 3 9 5 9 0 6 6]\n",
            " [7 3 3 0 9 2 7 0 4 6]\n",
            " [2 7 7 0 8 9 6 8 5 1]\n",
            " [3 9 4 5 1 6 5 7 9 3]]\n",
            "[[0 0 0 0 0]\n",
            " [0 7 2 7 2]\n",
            " [0 1 2 3 9]\n",
            " [0 0 7 4 5]\n",
            " [0 8 3 0 9]]\n"
          ]
        },
        {
          "output_type": "stream",
          "name": "stderr",
          "text": [
            "/usr/local/lib/python3.7/dist-packages/ipykernel_launcher.py:23: FutureWarning: Using a non-tuple sequence for multidimensional indexing is deprecated; use `arr[tuple(seq)]` instead of `arr[seq]`. In the future this will be interpreted as an array index, `arr[np.array(seq)]`, which will result either in an error or a different result.\n"
          ]
        }
      ],
      "source": [
        "Z = np.random.randint(0,10,(10,10))\n",
        "shape = (5,5)\n",
        "fill  = 0\n",
        "position = (1,1)\n",
        "\n",
        "R = np.ones(shape, dtype=Z.dtype)*fill\n",
        "P  = np.array(list(position)).astype(int)\n",
        "Rs = np.array(list(R.shape)).astype(int)\n",
        "Zs = np.array(list(Z.shape)).astype(int)\n",
        "\n",
        "R_start = np.zeros((len(shape),)).astype(int)\n",
        "R_stop  = np.array(list(shape)).astype(int)\n",
        "Z_start = (P-Rs//2)\n",
        "Z_stop  = (P+Rs//2)+Rs%2\n",
        "\n",
        "R_start = (R_start - np.minimum(Z_start,0)).tolist()\n",
        "Z_start = (np.maximum(Z_start,0)).tolist()\n",
        "R_stop = np.maximum(R_start, (R_stop - np.maximum(Z_stop-Zs,0))).tolist()\n",
        "Z_stop = (np.minimum(Z_stop,Zs)).tolist()\n",
        "\n",
        "r = [slice(start,stop) for start,stop in zip(R_start,R_stop)]\n",
        "z = [slice(start,stop) for start,stop in zip(Z_start,Z_stop)]\n",
        "R[r] = Z[z]\n",
        "print(Z)\n",
        "print(R)"
      ]
    },
    {
      "cell_type": "markdown",
      "metadata": {
        "id": "ZRVMIjSr-EIs"
      },
      "source": [
        "#### 81. Consider an array Z = \\[1,2,3,4,5,6,7,8,9,10,11,12,13,14\\], how to generate an array R = \\[\\[1,2,3,4\\], \\[2,3,4,5\\], \\[3,4,5,6\\], ..., \\[11,12,13,14\\]\\]? (★★★) \n",
        "(**hint**: stride\\_tricks.as\\_strided)"
      ]
    },
    {
      "cell_type": "code",
      "execution_count": null,
      "metadata": {
        "id": "W3nh2JSW-EIs",
        "colab": {
          "base_uri": "https://localhost:8080/"
        },
        "outputId": "4707b892-949d-4e27-c408-7ce5516db3db"
      },
      "outputs": [
        {
          "output_type": "stream",
          "name": "stdout",
          "text": [
            "[[ 1  2  3  4]\n",
            " [ 2  3  4  5]\n",
            " [ 3  4  5  6]\n",
            " [ 4  5  6  7]\n",
            " [ 5  6  7  8]\n",
            " [ 6  7  8  9]\n",
            " [ 7  8  9 10]\n",
            " [ 8  9 10 11]\n",
            " [ 9 10 11 12]\n",
            " [10 11 12 13]\n",
            " [11 12 13 14]]\n",
            "[[ 1  2  3  4]\n",
            " [ 2  3  4  5]\n",
            " [ 3  4  5  6]\n",
            " [ 4  5  6  7]\n",
            " [ 5  6  7  8]\n",
            " [ 6  7  8  9]\n",
            " [ 7  8  9 10]\n",
            " [ 8  9 10 11]\n",
            " [ 9 10 11 12]\n",
            " [10 11 12 13]\n",
            " [11 12 13 14]]\n"
          ]
        }
      ],
      "source": [
        "Z = np.arange(1,15,dtype=np.uint32)\n",
        "R = stride_tricks.as_strided(Z,(11,4),(4,4))\n",
        "print(R)\n",
        "\n",
        "\n",
        "\n",
        "Z = np.arange(1, 15, dtype=np.uint32)\n",
        "print(sliding_window_view(Z, window_shape=4))"
      ]
    },
    {
      "cell_type": "markdown",
      "metadata": {
        "id": "Olg7QdoR-EIs"
      },
      "source": [
        "#### 82. Compute a matrix rank (★★★) \n",
        "(**hint**: np.linalg.svd) (suggestion: np.linalg.svd)"
      ]
    },
    {
      "cell_type": "code",
      "execution_count": null,
      "metadata": {
        "id": "sTPpHs0H-EIs",
        "colab": {
          "base_uri": "https://localhost:8080/"
        },
        "outputId": "d59bfcf0-8f3b-44d0-9179-2c48f183a1c4"
      },
      "outputs": [
        {
          "output_type": "stream",
          "name": "stdout",
          "text": [
            "10\n"
          ]
        }
      ],
      "source": [
        "Z = np.random.uniform(0,1,(10,10))\n",
        "U, S, V = np.linalg.svd(Z) # Singular Value Decomposition\n",
        "rank = np.sum(S > 1e-10)\n",
        "print(rank)\n"
      ]
    },
    {
      "cell_type": "markdown",
      "metadata": {
        "id": "v4gryuqq-EIt"
      },
      "source": [
        "#### 83. How to find the most frequent value in an array? \n",
        "(**hint**: np.bincount, argmax)"
      ]
    },
    {
      "cell_type": "code",
      "execution_count": null,
      "metadata": {
        "id": "fDTkdwfx-EIt",
        "colab": {
          "base_uri": "https://localhost:8080/"
        },
        "outputId": "8aa2993a-9cbd-4a1a-ce47-e355334b8df9"
      },
      "outputs": [
        {
          "output_type": "stream",
          "name": "stdout",
          "text": [
            "2\n"
          ]
        }
      ],
      "source": [
        "Z = np.random.randint(0,10,50)\n",
        "print(np.bincount(Z).argmax())"
      ]
    },
    {
      "cell_type": "markdown",
      "metadata": {
        "id": "7AGd06J4-EIt"
      },
      "source": [
        "#### 84. Extract all the contiguous 3x3 blocks from a random 10x10 matrix (★★★) \n",
        "(**hint**: stride\\_tricks.as\\_strided)"
      ]
    },
    {
      "cell_type": "code",
      "execution_count": null,
      "metadata": {
        "id": "0kfZ_FW1-EIt",
        "colab": {
          "base_uri": "https://localhost:8080/"
        },
        "outputId": "c4da7a4b-98f7-45f1-80f2-b279fe73c9e0"
      },
      "outputs": [
        {
          "output_type": "stream",
          "name": "stdout",
          "text": [
            "[[[[2 1 2]\n",
            "   [4 3 0]\n",
            "   [0 4 4]]\n",
            "\n",
            "  [[1 2 4]\n",
            "   [3 0 4]\n",
            "   [4 4 0]]\n",
            "\n",
            "  [[2 4 3]\n",
            "   [0 4 4]\n",
            "   [4 0 3]]\n",
            "\n",
            "  [[4 3 4]\n",
            "   [4 4 3]\n",
            "   [0 3 2]]\n",
            "\n",
            "  [[3 4 1]\n",
            "   [4 3 4]\n",
            "   [3 2 0]]\n",
            "\n",
            "  [[4 1 3]\n",
            "   [3 4 4]\n",
            "   [2 0 1]]\n",
            "\n",
            "  [[1 3 0]\n",
            "   [4 4 2]\n",
            "   [0 1 0]]\n",
            "\n",
            "  [[3 0 2]\n",
            "   [4 2 1]\n",
            "   [1 0 4]]]\n",
            "\n",
            "\n",
            " [[[4 3 0]\n",
            "   [0 4 4]\n",
            "   [2 3 1]]\n",
            "\n",
            "  [[3 0 4]\n",
            "   [4 4 0]\n",
            "   [3 1 0]]\n",
            "\n",
            "  [[0 4 4]\n",
            "   [4 0 3]\n",
            "   [1 0 2]]\n",
            "\n",
            "  [[4 4 3]\n",
            "   [0 3 2]\n",
            "   [0 2 1]]\n",
            "\n",
            "  [[4 3 4]\n",
            "   [3 2 0]\n",
            "   [2 1 0]]\n",
            "\n",
            "  [[3 4 4]\n",
            "   [2 0 1]\n",
            "   [1 0 2]]\n",
            "\n",
            "  [[4 4 2]\n",
            "   [0 1 0]\n",
            "   [0 2 1]]\n",
            "\n",
            "  [[4 2 1]\n",
            "   [1 0 4]\n",
            "   [2 1 1]]]\n",
            "\n",
            "\n",
            " [[[0 4 4]\n",
            "   [2 3 1]\n",
            "   [1 1 4]]\n",
            "\n",
            "  [[4 4 0]\n",
            "   [3 1 0]\n",
            "   [1 4 2]]\n",
            "\n",
            "  [[4 0 3]\n",
            "   [1 0 2]\n",
            "   [4 2 2]]\n",
            "\n",
            "  [[0 3 2]\n",
            "   [0 2 1]\n",
            "   [2 2 0]]\n",
            "\n",
            "  [[3 2 0]\n",
            "   [2 1 0]\n",
            "   [2 0 2]]\n",
            "\n",
            "  [[2 0 1]\n",
            "   [1 0 2]\n",
            "   [0 2 2]]\n",
            "\n",
            "  [[0 1 0]\n",
            "   [0 2 1]\n",
            "   [2 2 1]]\n",
            "\n",
            "  [[1 0 4]\n",
            "   [2 1 1]\n",
            "   [2 1 3]]]\n",
            "\n",
            "\n",
            " [[[2 3 1]\n",
            "   [1 1 4]\n",
            "   [0 1 1]]\n",
            "\n",
            "  [[3 1 0]\n",
            "   [1 4 2]\n",
            "   [1 1 0]]\n",
            "\n",
            "  [[1 0 2]\n",
            "   [4 2 2]\n",
            "   [1 0 0]]\n",
            "\n",
            "  [[0 2 1]\n",
            "   [2 2 0]\n",
            "   [0 0 4]]\n",
            "\n",
            "  [[2 1 0]\n",
            "   [2 0 2]\n",
            "   [0 4 4]]\n",
            "\n",
            "  [[1 0 2]\n",
            "   [0 2 2]\n",
            "   [4 4 3]]\n",
            "\n",
            "  [[0 2 1]\n",
            "   [2 2 1]\n",
            "   [4 3 0]]\n",
            "\n",
            "  [[2 1 1]\n",
            "   [2 1 3]\n",
            "   [3 0 3]]]\n",
            "\n",
            "\n",
            " [[[1 1 4]\n",
            "   [0 1 1]\n",
            "   [4 0 1]]\n",
            "\n",
            "  [[1 4 2]\n",
            "   [1 1 0]\n",
            "   [0 1 4]]\n",
            "\n",
            "  [[4 2 2]\n",
            "   [1 0 0]\n",
            "   [1 4 0]]\n",
            "\n",
            "  [[2 2 0]\n",
            "   [0 0 4]\n",
            "   [4 0 2]]\n",
            "\n",
            "  [[2 0 2]\n",
            "   [0 4 4]\n",
            "   [0 2 3]]\n",
            "\n",
            "  [[0 2 2]\n",
            "   [4 4 3]\n",
            "   [2 3 2]]\n",
            "\n",
            "  [[2 2 1]\n",
            "   [4 3 0]\n",
            "   [3 2 2]]\n",
            "\n",
            "  [[2 1 3]\n",
            "   [3 0 3]\n",
            "   [2 2 2]]]\n",
            "\n",
            "\n",
            " [[[0 1 1]\n",
            "   [4 0 1]\n",
            "   [2 0 4]]\n",
            "\n",
            "  [[1 1 0]\n",
            "   [0 1 4]\n",
            "   [0 4 0]]\n",
            "\n",
            "  [[1 0 0]\n",
            "   [1 4 0]\n",
            "   [4 0 2]]\n",
            "\n",
            "  [[0 0 4]\n",
            "   [4 0 2]\n",
            "   [0 2 2]]\n",
            "\n",
            "  [[0 4 4]\n",
            "   [0 2 3]\n",
            "   [2 2 3]]\n",
            "\n",
            "  [[4 4 3]\n",
            "   [2 3 2]\n",
            "   [2 3 0]]\n",
            "\n",
            "  [[4 3 0]\n",
            "   [3 2 2]\n",
            "   [3 0 2]]\n",
            "\n",
            "  [[3 0 3]\n",
            "   [2 2 2]\n",
            "   [0 2 0]]]\n",
            "\n",
            "\n",
            " [[[4 0 1]\n",
            "   [2 0 4]\n",
            "   [2 3 2]]\n",
            "\n",
            "  [[0 1 4]\n",
            "   [0 4 0]\n",
            "   [3 2 2]]\n",
            "\n",
            "  [[1 4 0]\n",
            "   [4 0 2]\n",
            "   [2 2 1]]\n",
            "\n",
            "  [[4 0 2]\n",
            "   [0 2 2]\n",
            "   [2 1 1]]\n",
            "\n",
            "  [[0 2 3]\n",
            "   [2 2 3]\n",
            "   [1 1 1]]\n",
            "\n",
            "  [[2 3 2]\n",
            "   [2 3 0]\n",
            "   [1 1 2]]\n",
            "\n",
            "  [[3 2 2]\n",
            "   [3 0 2]\n",
            "   [1 2 1]]\n",
            "\n",
            "  [[2 2 2]\n",
            "   [0 2 0]\n",
            "   [2 1 2]]]\n",
            "\n",
            "\n",
            " [[[2 0 4]\n",
            "   [2 3 2]\n",
            "   [1 1 4]]\n",
            "\n",
            "  [[0 4 0]\n",
            "   [3 2 2]\n",
            "   [1 4 2]]\n",
            "\n",
            "  [[4 0 2]\n",
            "   [2 2 1]\n",
            "   [4 2 0]]\n",
            "\n",
            "  [[0 2 2]\n",
            "   [2 1 1]\n",
            "   [2 0 1]]\n",
            "\n",
            "  [[2 2 3]\n",
            "   [1 1 1]\n",
            "   [0 1 1]]\n",
            "\n",
            "  [[2 3 0]\n",
            "   [1 1 2]\n",
            "   [1 1 0]]\n",
            "\n",
            "  [[3 0 2]\n",
            "   [1 2 1]\n",
            "   [1 0 4]]\n",
            "\n",
            "  [[0 2 0]\n",
            "   [2 1 2]\n",
            "   [0 4 3]]]]\n",
            "[[[[3 0 0]\n",
            "   [3 0 3]\n",
            "   [0 0 2]]\n",
            "\n",
            "  [[0 0 2]\n",
            "   [0 3 3]\n",
            "   [0 2 4]]\n",
            "\n",
            "  [[0 2 1]\n",
            "   [3 3 3]\n",
            "   [2 4 1]]\n",
            "\n",
            "  [[2 1 1]\n",
            "   [3 3 2]\n",
            "   [4 1 2]]\n",
            "\n",
            "  [[1 1 2]\n",
            "   [3 2 0]\n",
            "   [1 2 4]]\n",
            "\n",
            "  [[1 2 0]\n",
            "   [2 0 1]\n",
            "   [2 4 3]]\n",
            "\n",
            "  [[2 0 3]\n",
            "   [0 1 1]\n",
            "   [4 3 3]]\n",
            "\n",
            "  [[0 3 4]\n",
            "   [1 1 1]\n",
            "   [3 3 2]]]\n",
            "\n",
            "\n",
            " [[[3 0 3]\n",
            "   [0 0 2]\n",
            "   [0 1 4]]\n",
            "\n",
            "  [[0 3 3]\n",
            "   [0 2 4]\n",
            "   [1 4 3]]\n",
            "\n",
            "  [[3 3 3]\n",
            "   [2 4 1]\n",
            "   [4 3 2]]\n",
            "\n",
            "  [[3 3 2]\n",
            "   [4 1 2]\n",
            "   [3 2 2]]\n",
            "\n",
            "  [[3 2 0]\n",
            "   [1 2 4]\n",
            "   [2 2 1]]\n",
            "\n",
            "  [[2 0 1]\n",
            "   [2 4 3]\n",
            "   [2 1 3]]\n",
            "\n",
            "  [[0 1 1]\n",
            "   [4 3 3]\n",
            "   [1 3 1]]\n",
            "\n",
            "  [[1 1 1]\n",
            "   [3 3 2]\n",
            "   [3 1 2]]]\n",
            "\n",
            "\n",
            " [[[0 0 2]\n",
            "   [0 1 4]\n",
            "   [2 2 3]]\n",
            "\n",
            "  [[0 2 4]\n",
            "   [1 4 3]\n",
            "   [2 3 0]]\n",
            "\n",
            "  [[2 4 1]\n",
            "   [4 3 2]\n",
            "   [3 0 2]]\n",
            "\n",
            "  [[4 1 2]\n",
            "   [3 2 2]\n",
            "   [0 2 0]]\n",
            "\n",
            "  [[1 2 4]\n",
            "   [2 2 1]\n",
            "   [2 0 4]]\n",
            "\n",
            "  [[2 4 3]\n",
            "   [2 1 3]\n",
            "   [0 4 1]]\n",
            "\n",
            "  [[4 3 3]\n",
            "   [1 3 1]\n",
            "   [4 1 3]]\n",
            "\n",
            "  [[3 3 2]\n",
            "   [3 1 2]\n",
            "   [1 3 4]]]\n",
            "\n",
            "\n",
            " [[[0 1 4]\n",
            "   [2 2 3]\n",
            "   [2 1 1]]\n",
            "\n",
            "  [[1 4 3]\n",
            "   [2 3 0]\n",
            "   [1 1 2]]\n",
            "\n",
            "  [[4 3 2]\n",
            "   [3 0 2]\n",
            "   [1 2 3]]\n",
            "\n",
            "  [[3 2 2]\n",
            "   [0 2 0]\n",
            "   [2 3 1]]\n",
            "\n",
            "  [[2 2 1]\n",
            "   [2 0 4]\n",
            "   [3 1 0]]\n",
            "\n",
            "  [[2 1 3]\n",
            "   [0 4 1]\n",
            "   [1 0 2]]\n",
            "\n",
            "  [[1 3 1]\n",
            "   [4 1 3]\n",
            "   [0 2 2]]\n",
            "\n",
            "  [[3 1 2]\n",
            "   [1 3 4]\n",
            "   [2 2 4]]]\n",
            "\n",
            "\n",
            " [[[2 2 3]\n",
            "   [2 1 1]\n",
            "   [0 2 4]]\n",
            "\n",
            "  [[2 3 0]\n",
            "   [1 1 2]\n",
            "   [2 4 3]]\n",
            "\n",
            "  [[3 0 2]\n",
            "   [1 2 3]\n",
            "   [4 3 3]]\n",
            "\n",
            "  [[0 2 0]\n",
            "   [2 3 1]\n",
            "   [3 3 2]]\n",
            "\n",
            "  [[2 0 4]\n",
            "   [3 1 0]\n",
            "   [3 2 4]]\n",
            "\n",
            "  [[0 4 1]\n",
            "   [1 0 2]\n",
            "   [2 4 4]]\n",
            "\n",
            "  [[4 1 3]\n",
            "   [0 2 2]\n",
            "   [4 4 2]]\n",
            "\n",
            "  [[1 3 4]\n",
            "   [2 2 4]\n",
            "   [4 2 0]]]\n",
            "\n",
            "\n",
            " [[[2 1 1]\n",
            "   [0 2 4]\n",
            "   [3 2 4]]\n",
            "\n",
            "  [[1 1 2]\n",
            "   [2 4 3]\n",
            "   [2 4 1]]\n",
            "\n",
            "  [[1 2 3]\n",
            "   [4 3 3]\n",
            "   [4 1 2]]\n",
            "\n",
            "  [[2 3 1]\n",
            "   [3 3 2]\n",
            "   [1 2 4]]\n",
            "\n",
            "  [[3 1 0]\n",
            "   [3 2 4]\n",
            "   [2 4 2]]\n",
            "\n",
            "  [[1 0 2]\n",
            "   [2 4 4]\n",
            "   [4 2 4]]\n",
            "\n",
            "  [[0 2 2]\n",
            "   [4 4 2]\n",
            "   [2 4 1]]\n",
            "\n",
            "  [[2 2 4]\n",
            "   [4 2 0]\n",
            "   [4 1 3]]]\n",
            "\n",
            "\n",
            " [[[0 2 4]\n",
            "   [3 2 4]\n",
            "   [3 2 2]]\n",
            "\n",
            "  [[2 4 3]\n",
            "   [2 4 1]\n",
            "   [2 2 1]]\n",
            "\n",
            "  [[4 3 3]\n",
            "   [4 1 2]\n",
            "   [2 1 3]]\n",
            "\n",
            "  [[3 3 2]\n",
            "   [1 2 4]\n",
            "   [1 3 4]]\n",
            "\n",
            "  [[3 2 4]\n",
            "   [2 4 2]\n",
            "   [3 4 4]]\n",
            "\n",
            "  [[2 4 4]\n",
            "   [4 2 4]\n",
            "   [4 4 1]]\n",
            "\n",
            "  [[4 4 2]\n",
            "   [2 4 1]\n",
            "   [4 1 0]]\n",
            "\n",
            "  [[4 2 0]\n",
            "   [4 1 3]\n",
            "   [1 0 2]]]\n",
            "\n",
            "\n",
            " [[[3 2 4]\n",
            "   [3 2 2]\n",
            "   [3 4 3]]\n",
            "\n",
            "  [[2 4 1]\n",
            "   [2 2 1]\n",
            "   [4 3 2]]\n",
            "\n",
            "  [[4 1 2]\n",
            "   [2 1 3]\n",
            "   [3 2 3]]\n",
            "\n",
            "  [[1 2 4]\n",
            "   [1 3 4]\n",
            "   [2 3 4]]\n",
            "\n",
            "  [[2 4 2]\n",
            "   [3 4 4]\n",
            "   [3 4 2]]\n",
            "\n",
            "  [[4 2 4]\n",
            "   [4 4 1]\n",
            "   [4 2 0]]\n",
            "\n",
            "  [[2 4 1]\n",
            "   [4 1 0]\n",
            "   [2 0 1]]\n",
            "\n",
            "  [[4 1 3]\n",
            "   [1 0 2]\n",
            "   [0 1 3]]]]\n"
          ]
        }
      ],
      "source": [
        "Z = np.random.randint(0,5,(10,10))\n",
        "n = 3\n",
        "i = 1 + (Z.shape[0]-3)\n",
        "j = 1 + (Z.shape[1]-3)\n",
        "C = stride_tricks.as_strided(Z, shape=(i, j, n, n), strides=Z.strides + Z.strides)\n",
        "print(C)\n",
        "\n",
        "Z = np.random.randint(0,5,(10,10))\n",
        "print(sliding_window_view(Z, window_shape=(3, 3)))"
      ]
    },
    {
      "cell_type": "markdown",
      "metadata": {
        "id": "ffwCdxUS-EIt"
      },
      "source": [
        "#### 85. Create a 2D array subclass such that Z\\[i,j\\] == Z\\[j,i\\] (★★★) \n",
        "(**hint**: class method)"
      ]
    },
    {
      "cell_type": "code",
      "execution_count": null,
      "metadata": {
        "id": "LKQ83yR--EIt",
        "colab": {
          "base_uri": "https://localhost:8080/"
        },
        "outputId": "299dfe1a-1009-4418-ee72-de745c86aff8"
      },
      "outputs": [
        {
          "output_type": "stream",
          "name": "stdout",
          "text": [
            "[[ 7 13 15  5  8]\n",
            " [13  0  4 10  8]\n",
            " [15  4  6 42 18]\n",
            " [ 5 10 42  0 10]\n",
            " [ 8  8 18 10  0]]\n"
          ]
        }
      ],
      "source": [
        "class Symetric(np.ndarray):\n",
        "    def __setitem__(self, index, value):\n",
        "        i,j = index\n",
        "        super(Symetric, self).__setitem__((i,j), value)\n",
        "        super(Symetric, self).__setitem__((j,i), value)\n",
        "\n",
        "def symetric(Z):\n",
        "    return np.asarray(Z + Z.T - np.diag(Z.diagonal())).view(Symetric)\n",
        "\n",
        "S = symetric(np.random.randint(0,10,(5,5)))\n",
        "S[2,3] = 42\n",
        "print(S)"
      ]
    },
    {
      "cell_type": "markdown",
      "metadata": {
        "id": "xtgLjtwI-EIt"
      },
      "source": [
        "#### 86. Consider a set of p matrices wich shape (n,n) and a set of p vectors with shape (n,1). How to compute the sum of of the p matrix products at once? (result has shape (n,1)) (★★★) \n",
        "(**hint**: np.tensordot)"
      ]
    },
    {
      "cell_type": "code",
      "execution_count": null,
      "metadata": {
        "id": "6EeAV2xt-EIu",
        "colab": {
          "base_uri": "https://localhost:8080/"
        },
        "outputId": "2da295b3-72da-4eff-9726-fe083d608232"
      },
      "outputs": [
        {
          "output_type": "stream",
          "name": "stdout",
          "text": [
            "[[200.]\n",
            " [200.]\n",
            " [200.]\n",
            " [200.]\n",
            " [200.]\n",
            " [200.]\n",
            " [200.]\n",
            " [200.]\n",
            " [200.]\n",
            " [200.]\n",
            " [200.]\n",
            " [200.]\n",
            " [200.]\n",
            " [200.]\n",
            " [200.]\n",
            " [200.]\n",
            " [200.]\n",
            " [200.]\n",
            " [200.]\n",
            " [200.]]\n"
          ]
        }
      ],
      "source": [
        "p, n = 10, 20\n",
        "M = np.ones((p,n,n))\n",
        "V = np.ones((p,n,1))\n",
        "S = np.tensordot(M, V, axes=[[0, 2], [0, 1]])\n",
        "print(S)"
      ]
    },
    {
      "cell_type": "markdown",
      "metadata": {
        "id": "rhDVeUh0-EIu"
      },
      "source": [
        "#### 87. Consider a 16x16 array, how to get the block-sum (block size is 4x4)? (★★★) \n",
        "(**hint**: np.add.reduceat)"
      ]
    },
    {
      "cell_type": "code",
      "execution_count": null,
      "metadata": {
        "id": "ErxGWbD5-EIu",
        "colab": {
          "base_uri": "https://localhost:8080/"
        },
        "outputId": "d4f09f99-0bab-457c-9a2f-636459973749"
      },
      "outputs": [
        {
          "output_type": "stream",
          "name": "stdout",
          "text": [
            "[[16. 16. 16. 16.]\n",
            " [16. 16. 16. 16.]\n",
            " [16. 16. 16. 16.]\n",
            " [16. 16. 16. 16.]]\n"
          ]
        }
      ],
      "source": [
        "Z = np.ones((16,16))\n",
        "k = 4\n",
        "S = np.add.reduceat(np.add.reduceat(Z, np.arange(0, Z.shape[0], k), axis=0),\n",
        "                                       np.arange(0, Z.shape[1], k), axis=1)\n",
        "print(S)\n",
        "\n"
      ]
    },
    {
      "cell_type": "markdown",
      "metadata": {
        "id": "qhdDwAgL-EIu"
      },
      "source": [
        "#### 88. How to implement the Game of Life using numpy arrays? (★★★)"
      ]
    },
    {
      "cell_type": "code",
      "execution_count": null,
      "metadata": {
        "id": "4rqpg5NT-EIu",
        "colab": {
          "base_uri": "https://localhost:8080/"
        },
        "outputId": "b54eda51-1373-4cd0-ca0a-0fd8235a2a30"
      },
      "outputs": [
        {
          "output_type": "stream",
          "name": "stdout",
          "text": [
            "[[0 0 0 ... 0 0 0]\n",
            " [0 0 0 ... 0 0 0]\n",
            " [0 0 0 ... 0 0 0]\n",
            " ...\n",
            " [0 0 0 ... 0 0 0]\n",
            " [0 0 0 ... 0 0 0]\n",
            " [0 0 0 ... 0 0 0]]\n"
          ]
        }
      ],
      "source": [
        "def iterate(Z):\n",
        "    # Count neighbours\n",
        "    N = (Z[0:-2,0:-2] + Z[0:-2,1:-1] + Z[0:-2,2:] +\n",
        "         Z[1:-1,0:-2]                + Z[1:-1,2:] +\n",
        "         Z[2:  ,0:-2] + Z[2:  ,1:-1] + Z[2:  ,2:])\n",
        "\n",
        "    # Apply rules\n",
        "    birth = (N==3) & (Z[1:-1,1:-1]==0)\n",
        "    survive = ((N==2) | (N==3)) & (Z[1:-1,1:-1]==1)\n",
        "    Z[...] = 0\n",
        "    Z[1:-1,1:-1][birth | survive] = 1\n",
        "    return Z\n",
        "\n",
        "Z = np.random.randint(0,2,(50,50))\n",
        "for i in range(100): Z = iterate(Z)\n",
        "print(Z)"
      ]
    },
    {
      "cell_type": "markdown",
      "metadata": {
        "id": "w01q3V9_-EIu"
      },
      "source": [
        "#### 89. How to get the n largest values of an array (★★★) \n",
        "(**hint**: np.argsort | np.argpartition)"
      ]
    },
    {
      "cell_type": "code",
      "execution_count": null,
      "metadata": {
        "id": "0PUr78Mo-EIu",
        "colab": {
          "base_uri": "https://localhost:8080/"
        },
        "outputId": "56b8c27f-6bad-422d-9461-1baf290b16c7"
      },
      "outputs": [
        {
          "output_type": "stream",
          "name": "stdout",
          "text": [
            "[9995 9996 9997 9998 9999]\n",
            "[9999 9998 9997 9996 9995]\n"
          ]
        }
      ],
      "source": [
        "Z = np.arange(10000)\n",
        "np.random.shuffle(Z)\n",
        "n = 5\n",
        "\n",
        "# Slow\n",
        "print (Z[np.argsort(Z)[-n:]])\n",
        "\n",
        "# Fast\n",
        "print (Z[np.argpartition(-Z,n)[:n]])"
      ]
    },
    {
      "cell_type": "markdown",
      "metadata": {
        "id": "Nt9KyhJJ-EIu"
      },
      "source": [
        "#### 90. Given an arbitrary number of vectors, build the cartesian product (every combinations of every item) (★★★) \n",
        "(**hint**: np.indices)"
      ]
    },
    {
      "cell_type": "code",
      "execution_count": null,
      "metadata": {
        "scrolled": true,
        "id": "LVUv2Nap-EIu",
        "colab": {
          "base_uri": "https://localhost:8080/"
        },
        "outputId": "7a0e0a4f-1f83-473e-ffe9-dab6198e3dbb"
      },
      "outputs": [
        {
          "output_type": "stream",
          "name": "stdout",
          "text": [
            "[[1 4 6]\n",
            " [1 4 7]\n",
            " [1 5 6]\n",
            " [1 5 7]\n",
            " [2 4 6]\n",
            " [2 4 7]\n",
            " [2 5 6]\n",
            " [2 5 7]\n",
            " [3 4 6]\n",
            " [3 4 7]\n",
            " [3 5 6]\n",
            " [3 5 7]]\n"
          ]
        }
      ],
      "source": [
        "def cartesian(arrays):\n",
        "    arrays = [np.asarray(a) for a in arrays]\n",
        "    shape = (len(x) for x in arrays)\n",
        "\n",
        "    ix = np.indices(shape, dtype=int)\n",
        "    ix = ix.reshape(len(arrays), -1).T\n",
        "\n",
        "    for n, arr in enumerate(arrays):\n",
        "        ix[:, n] = arrays[n][ix[:, n]]\n",
        "\n",
        "    return ix\n",
        "\n",
        "print (cartesian(([1, 2, 3], [4, 5], [6, 7])))"
      ]
    },
    {
      "cell_type": "markdown",
      "metadata": {
        "id": "gRHtdP9D-EIv"
      },
      "source": [
        "#### 91. How to create a record array from a regular array? (★★★) \n",
        "(**hint**: np.core.records.fromarrays)"
      ]
    },
    {
      "cell_type": "code",
      "execution_count": null,
      "metadata": {
        "id": "EAC8Kqk8-EIv",
        "colab": {
          "base_uri": "https://localhost:8080/"
        },
        "outputId": "f35f6612-0564-4427-c96a-79aba33ab5e2"
      },
      "outputs": [
        {
          "output_type": "stream",
          "name": "stdout",
          "text": [
            "[(b'Hello', 2.5, 3) (b'World', 3.6, 2)]\n"
          ]
        }
      ],
      "source": [
        "Z = np.array([(\"Hello\", 2.5, 3),\n",
        "              (\"World\", 3.6, 2)])\n",
        "R = np.core.records.fromarrays(Z.T,\n",
        "                               names='col1, col2, col3',\n",
        "                               formats = 'S8, f8, i8')\n",
        "print(R)"
      ]
    },
    {
      "cell_type": "markdown",
      "metadata": {
        "id": "-qvavd9d-EIv"
      },
      "source": [
        "#### 92. Consider a large vector Z, compute Z to the power of 3 using 3 different methods (★★★) \n",
        "(**hint**: np.power, \\*, np.einsum)"
      ]
    },
    {
      "cell_type": "code",
      "execution_count": null,
      "metadata": {
        "id": "GBO-Oimj-EIv",
        "colab": {
          "base_uri": "https://localhost:8080/"
        },
        "outputId": "03c6efee-919e-4527-b975-9311436425e6"
      },
      "outputs": [
        {
          "output_type": "stream",
          "name": "stdout",
          "text": [
            "3.72 s ± 15.2 ms per loop (mean ± std. dev. of 7 runs, 1 loop each)\n",
            "145 ms ± 1.05 ms per loop (mean ± std. dev. of 7 runs, 10 loops each)\n",
            "125 ms ± 989 µs per loop (mean ± std. dev. of 7 runs, 10 loops each)\n"
          ]
        }
      ],
      "source": [
        "x = np.random.rand(int(5e7))\n",
        "\n",
        "%timeit np.power(x,3)\n",
        "%timeit x*x*x\n",
        "%timeit np.einsum('i,i,i->i',x,x,x)"
      ]
    },
    {
      "cell_type": "markdown",
      "metadata": {
        "id": "XMEyzUrm-EIv"
      },
      "source": [
        "#### 93. Consider two arrays A and B of shape (8,3) and (2,2). How to find rows of A that contain elements of each row of B regardless of the order of the elements in B? (★★★) \n",
        "(**hint**: np.where)"
      ]
    },
    {
      "cell_type": "code",
      "execution_count": null,
      "metadata": {
        "id": "75yMK4iN-EIv",
        "colab": {
          "base_uri": "https://localhost:8080/"
        },
        "outputId": "235fbab9-9022-4c15-8245-2f3e888a3040"
      },
      "outputs": [
        {
          "output_type": "stream",
          "name": "stdout",
          "text": [
            "[0 1 3 4 5]\n"
          ]
        }
      ],
      "source": [
        "A = np.random.randint(0,5,(8,3))\n",
        "B = np.random.randint(0,5,(2,2))\n",
        "\n",
        "C = (A[..., np.newaxis, np.newaxis] == B)\n",
        "rows = np.where(C.any((3,1)).all(1))[0]\n",
        "print(rows)"
      ]
    },
    {
      "cell_type": "markdown",
      "metadata": {
        "id": "q1fqYLON-EIv"
      },
      "source": [
        "#### 94. Considering a 10x3 matrix, extract rows with unequal values (e.g. \\[2,2,3\\]) (★★★)"
      ]
    },
    {
      "cell_type": "code",
      "execution_count": null,
      "metadata": {
        "id": "Ly6ZLymJ-EIv",
        "colab": {
          "base_uri": "https://localhost:8080/"
        },
        "outputId": "ab507dd3-862e-4143-e0a5-c1e131a212e4"
      },
      "outputs": [
        {
          "output_type": "stream",
          "name": "stdout",
          "text": [
            "[[1 0 3]\n",
            " [2 4 1]\n",
            " [3 2 4]\n",
            " [3 3 3]\n",
            " [2 2 3]\n",
            " [1 1 3]\n",
            " [3 0 2]\n",
            " [2 3 0]\n",
            " [3 1 3]\n",
            " [4 1 1]]\n",
            "[[1 0 3]\n",
            " [2 4 1]\n",
            " [3 2 4]\n",
            " [2 2 3]\n",
            " [1 1 3]\n",
            " [3 0 2]\n",
            " [2 3 0]\n",
            " [3 1 3]\n",
            " [4 1 1]]\n",
            "[[1 0 3]\n",
            " [2 4 1]\n",
            " [3 2 4]\n",
            " [2 2 3]\n",
            " [1 1 3]\n",
            " [3 0 2]\n",
            " [2 3 0]\n",
            " [3 1 3]\n",
            " [4 1 1]]\n"
          ]
        }
      ],
      "source": [
        "Z = np.random.randint(0,5,(10,3))\n",
        "print(Z)\n",
        "# solution for arrays of all dtypes (including string arrays and record arrays)\n",
        "E = np.all(Z[:,1:] == Z[:,:-1], axis=1)\n",
        "U = Z[~E]\n",
        "print(U)\n",
        "# soluiton for numerical arrays only, will work for any number of columns in Z\n",
        "U = Z[Z.max(axis=1) != Z.min(axis=1),:]\n",
        "print(U)"
      ]
    },
    {
      "cell_type": "markdown",
      "metadata": {
        "id": "GRUduMRq-EIv"
      },
      "source": [
        "#### 95. Convert a vector of ints into a matrix binary representation (★★★) \n",
        "(**hint**: np.unpackbits)"
      ]
    },
    {
      "cell_type": "code",
      "execution_count": null,
      "metadata": {
        "id": "Vq5Lfeys-EIw",
        "colab": {
          "base_uri": "https://localhost:8080/"
        },
        "outputId": "3f8311aa-f975-4915-87ef-43eba99b55a0"
      },
      "outputs": [
        {
          "output_type": "stream",
          "name": "stdout",
          "text": [
            "[[0 0 0 0 0 0 0 0]\n",
            " [0 0 0 0 0 0 0 1]\n",
            " [0 0 0 0 0 0 1 0]\n",
            " [0 0 0 0 0 0 1 1]\n",
            " [0 0 0 0 1 1 1 1]\n",
            " [0 0 0 1 0 0 0 0]\n",
            " [0 0 1 0 0 0 0 0]\n",
            " [0 1 0 0 0 0 0 0]\n",
            " [1 0 0 0 0 0 0 0]]\n",
            "[[0 0 0 0 0 0 0 0]\n",
            " [0 0 0 0 0 0 0 1]\n",
            " [0 0 0 0 0 0 1 0]\n",
            " [0 0 0 0 0 0 1 1]\n",
            " [0 0 0 0 1 1 1 1]\n",
            " [0 0 0 1 0 0 0 0]\n",
            " [0 0 1 0 0 0 0 0]\n",
            " [0 1 0 0 0 0 0 0]\n",
            " [1 0 0 0 0 0 0 0]]\n"
          ]
        }
      ],
      "source": [
        "I = np.array([0, 1, 2, 3, 15, 16, 32, 64, 128])\n",
        "B = ((I.reshape(-1,1) & (2**np.arange(8))) != 0).astype(int)\n",
        "print(B[:,::-1])\n",
        "\n",
        "\n",
        "\n",
        "I = np.array([0, 1, 2, 3, 15, 16, 32, 64, 128], dtype=np.uint8)\n",
        "print(np.unpackbits(I[:, np.newaxis], axis=1))"
      ]
    },
    {
      "cell_type": "markdown",
      "metadata": {
        "id": "jvXr9Cot-EIw"
      },
      "source": [
        "#### 96. Given a two dimensional array, how to extract unique rows? (★★★) \n",
        "(**hint**: np.ascontiguousarray)"
      ]
    },
    {
      "cell_type": "code",
      "execution_count": null,
      "metadata": {
        "id": "SbRvxJ-6-EIw",
        "colab": {
          "base_uri": "https://localhost:8080/"
        },
        "outputId": "51b1318d-6158-467f-aeb2-e782f8631834"
      },
      "outputs": [
        {
          "output_type": "stream",
          "name": "stdout",
          "text": [
            "[[0 0 1]\n",
            " [0 1 0]\n",
            " [1 0 0]\n",
            " [1 0 1]]\n"
          ]
        }
      ],
      "source": [
        "Z = np.random.randint(0,2,(6,3))\n",
        "T = np.ascontiguousarray(Z).view(np.dtype((np.void, Z.dtype.itemsize * Z.shape[1])))\n",
        "_, idx = np.unique(T, return_index=True)\n",
        "uZ = Z[idx]\n",
        "print(uZ)"
      ]
    },
    {
      "cell_type": "markdown",
      "metadata": {
        "id": "ApjFwqmS-EIw"
      },
      "source": [
        "#### 97. Considering 2 vectors A & B, write the einsum equivalent of inner, outer, sum, and mul function (★★★) \n",
        "(**hint**: np.einsum)"
      ]
    },
    {
      "cell_type": "code",
      "execution_count": null,
      "metadata": {
        "id": "z5OuhmDl-EIw",
        "colab": {
          "base_uri": "https://localhost:8080/"
        },
        "outputId": "bf4bafa1-21f9-4f75-d4c1-e6d2de2bf29b"
      },
      "outputs": [
        {
          "output_type": "execute_result",
          "data": {
            "text/plain": [
              "array([[8.05107017e-01, 8.44561957e-01, 4.48949062e-01, 4.72637546e-01,\n",
              "        6.18499640e-01, 3.39850760e-01, 3.36925642e-01, 8.84355615e-01,\n",
              "        7.04260209e-01, 1.32156700e-02],\n",
              "       [5.25918784e-01, 5.51691872e-01, 2.93266286e-01, 3.08740277e-01,\n",
              "        4.04021542e-01, 2.22000175e-01, 2.20089404e-01, 5.77686221e-01,\n",
              "        4.60042783e-01, 8.63285125e-03],\n",
              "       [4.17606086e-02, 4.38071221e-02, 2.32868248e-02, 2.45155379e-02,\n",
              "        3.20813517e-02, 1.76279355e-02, 1.74762107e-02, 4.58712047e-02,\n",
              "        3.65297213e-02, 6.85492006e-04],\n",
              "       [5.66703532e-01, 5.94475311e-01, 3.16008945e-01, 3.32682937e-01,\n",
              "        4.35353217e-01, 2.39216181e-01, 2.37157231e-01, 6.22485508e-01,\n",
              "        4.95718879e-01, 9.30232470e-03],\n",
              "       [7.25483118e-01, 7.61036023e-01, 4.04548660e-01, 4.25894389e-01,\n",
              "        5.57330936e-01, 3.06240020e-01, 3.03604192e-01, 7.96894147e-01,\n",
              "        6.34609911e-01, 1.19086597e-02],\n",
              "       [8.01469226e-01, 8.40745894e-01, 4.46920533e-01, 4.70501984e-01,\n",
              "        6.15705015e-01, 3.38315181e-01, 3.35403279e-01, 8.80359748e-01,\n",
              "        7.01078084e-01, 1.31559564e-02],\n",
              "       [7.04791395e-01, 7.39330285e-01, 3.93010406e-01, 4.13747326e-01,\n",
              "        5.41435132e-01, 2.97505656e-01, 2.94945005e-01, 7.74165688e-01,\n",
              "        6.16510010e-01, 1.15690092e-02],\n",
              "       [3.33969598e-01, 3.50336056e-01, 1.86230320e-01, 1.96056633e-01,\n",
              "        2.56562260e-01, 1.40974826e-01, 1.39761446e-01, 3.66843020e-01,\n",
              "        2.92136938e-01, 5.48204390e-03],\n",
              "       [5.51064013e-01, 5.78069364e-01, 3.07287934e-01, 3.23501768e-01,\n",
              "        4.23338620e-01, 2.32614447e-01, 2.30612319e-01, 6.05306555e-01,\n",
              "        4.82038349e-01, 9.04560514e-03],\n",
              "       [8.99408229e-02, 9.43484479e-02, 5.01533923e-02, 5.27997011e-02,\n",
              "        6.90943755e-02, 3.79657069e-02, 3.76389335e-02, 9.87939120e-02,\n",
              "        7.86749356e-02, 1.47636055e-03]])"
            ]
          },
          "metadata": {},
          "execution_count": 47
        }
      ],
      "source": [
        "A = np.random.uniform(0,1,10)\n",
        "B = np.random.uniform(0,1,10)\n",
        "\n",
        "np.einsum('i->', A)       # np.sum(A)\n",
        "np.einsum('i,i->i', A, B) # A * B\n",
        "np.einsum('i,i', A, B)    # np.inner(A, B)\n",
        "np.einsum('i,j->ij', A, B)    # np.outer(A, B)"
      ]
    },
    {
      "cell_type": "markdown",
      "metadata": {
        "id": "Fipe9TtT-EIw"
      },
      "source": [
        "#### 98. Considering a path described by two vectors (X,Y), how to sample it using equidistant samples (★★★)? \n",
        "(**hint**: np.cumsum, np.interp)"
      ]
    },
    {
      "cell_type": "code",
      "execution_count": null,
      "metadata": {
        "collapsed": true,
        "id": "11TBFH89-EIw"
      },
      "outputs": [],
      "source": [
        "phi = np.arange(0, 10*np.pi, 0.1)\n",
        "a = 1\n",
        "x = a*phi*np.cos(phi)\n",
        "y = a*phi*np.sin(phi)\n",
        "\n",
        "dr = (np.diff(x)**2 + np.diff(y)**2)**.5 # segment lengths\n",
        "r = np.zeros_like(x)\n",
        "r[1:] = np.cumsum(dr)                # integrate path\n",
        "r_int = np.linspace(0, r.max(), 200) # regular spaced path\n",
        "x_int = np.interp(r_int, r, x)       # integrate path\n",
        "y_int = np.interp(r_int, r, y)"
      ]
    },
    {
      "cell_type": "markdown",
      "metadata": {
        "id": "SyCMZyOa-EIw"
      },
      "source": [
        "#### 99. Given an integer n and a 2D array X, select from X the rows which can be interpreted as draws from a multinomial distribution with n degrees, i.e., the rows which only contain integers and which sum to n. (★★★) \n",
        "(**hint**: np.logical\\_and.reduce, np.mod)"
      ]
    },
    {
      "cell_type": "code",
      "execution_count": null,
      "metadata": {
        "id": "NNLmmaKb-EIw",
        "colab": {
          "base_uri": "https://localhost:8080/"
        },
        "outputId": "950fc83c-537b-4a29-9176-1b94105ca3e8"
      },
      "outputs": [
        {
          "output_type": "stream",
          "name": "stdout",
          "text": [
            "[[2. 0. 1. 1.]]\n"
          ]
        }
      ],
      "source": [
        "X = np.asarray([[1.0, 0.0, 3.0, 8.0],\n",
        "                [2.0, 0.0, 1.0, 1.0],\n",
        "                [1.5, 2.5, 1.0, 0.0]])\n",
        "n = 4\n",
        "M = np.logical_and.reduce(np.mod(X, 1) == 0, axis=-1)\n",
        "M &= (X.sum(axis=-1) == n)\n",
        "print(X[M])"
      ]
    },
    {
      "cell_type": "markdown",
      "metadata": {
        "id": "TrbJhcYP-EIx"
      },
      "source": [
        "#### 100. Compute bootstrapped 95% confidence intervals for the mean of a 1D array X (i.e., resample the elements of an array with replacement N times, compute the mean of each sample, and then compute percentiles over the means). (★★★) \n",
        "(**hint**: np.percentile)"
      ]
    },
    {
      "cell_type": "code",
      "execution_count": null,
      "metadata": {
        "id": "cqNu2d-8-EIx",
        "colab": {
          "base_uri": "https://localhost:8080/"
        },
        "outputId": "005ad9ff-dbb7-4954-c737-d2c30f01b217"
      },
      "outputs": [
        {
          "output_type": "stream",
          "name": "stdout",
          "text": [
            "[-0.18929371  0.20973864]\n"
          ]
        }
      ],
      "source": [
        "X = np.random.randn(100) # random 1D array\n",
        "N = 1000 # number of bootstrap samples\n",
        "idx = np.random.randint(0, X.size, (N, X.size))\n",
        "means = X[idx].mean(axis=1)\n",
        "confint = np.percentile(means, [2.5, 97.5])\n",
        "print(confint)"
      ]
    }
  ],
  "metadata": {
    "kernelspec": {
      "display_name": "Python 3",
      "language": "python",
      "name": "python3"
    },
    "language_info": {
      "codemirror_mode": {
        "name": "ipython",
        "version": 3
      },
      "file_extension": ".py",
      "mimetype": "text/x-python",
      "name": "python",
      "nbconvert_exporter": "python",
      "pygments_lexer": "ipython3",
      "version": "3.8.3"
    },
    "colab": {
      "provenance": [],
      "collapsed_sections": [
        "SGllYecM-EH6",
        "GN8gFNVB-EH9",
        "VdJ-F90Z-EH-",
        "tg7BHCrS-EIA",
        "VwLeYsrN-EIB",
        "w6Yg7wWm-EIN",
        "f_I-rVmU-EIX",
        "ET6imRip-EIY"
      ],
      "include_colab_link": true
    }
  },
  "nbformat": 4,
  "nbformat_minor": 0
}